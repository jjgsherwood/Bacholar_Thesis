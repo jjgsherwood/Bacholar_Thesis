{
 "cells": [
  {
   "cell_type": "code",
   "execution_count": 12,
   "metadata": {},
   "outputs": [],
   "source": [
    "import numpy as np\n",
    "np.set_printoptions(precision=2)"
   ]
  },
  {
   "cell_type": "code",
   "execution_count": 13,
   "metadata": {},
   "outputs": [],
   "source": [
    "output = np.random.random((3,3,3))"
   ]
  },
  {
   "cell_type": "code",
   "execution_count": 14,
   "metadata": {},
   "outputs": [
    {
     "data": {
      "text/plain": [
       "array([[[0.46, 0.66, 0.87],\n",
       "        [0.77, 0.55, 0.57],\n",
       "        [0.76, 0.48, 0.8 ]],\n",
       "\n",
       "       [[0.7 , 0.57, 0.97],\n",
       "        [0.59, 0.31, 0.91],\n",
       "        [0.71, 0.93, 1.  ]],\n",
       "\n",
       "       [[0.85, 0.56, 0.35],\n",
       "        [0.18, 0.43, 0.82],\n",
       "        [0.13, 0.19, 0.02]]])"
      ]
     },
     "execution_count": 14,
     "metadata": {},
     "output_type": "execute_result"
    }
   ],
   "source": [
    "output"
   ]
  },
  {
   "cell_type": "code",
   "execution_count": null,
   "metadata": {},
   "outputs": [],
   "source": [
    "[[[0.46, 0.66, 0.87], [0.77, 0.55, 0.57], [0.76, 0.48, 0.8 ]],\n",
    " [[0.7 , 0.57, 0.97], [0.59, 0.31, 0.91], [0.71, 0.93, 1.  ]],\n",
    " [[0.85, 0.56, 0.35], [0.18, 0.43, 0.05], [0.13, 0.19, 0.02]]]"
   ]
  }
 ],
 "metadata": {
  "kernelspec": {
   "display_name": "Python 3",
   "language": "python",
   "name": "python3"
  },
  "language_info": {
   "codemirror_mode": {
    "name": "ipython",
    "version": 3
   },
   "file_extension": ".py",
   "mimetype": "text/x-python",
   "name": "python",
   "nbconvert_exporter": "python",
   "pygments_lexer": "ipython3",
   "version": "3.7.4"
  }
 },
 "nbformat": 4,
 "nbformat_minor": 2
}
