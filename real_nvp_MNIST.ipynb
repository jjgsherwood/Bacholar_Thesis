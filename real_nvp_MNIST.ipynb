{
 "cells": [
  {
   "cell_type": "code",
   "execution_count": 1,
   "metadata": {},
   "outputs": [],
   "source": [
    "import torch\n",
    "import torch.nn as nn\n",
    "import torch.nn.functional as F\n",
    "import torch.optim as optim\n",
    "from torch import distributions\n",
    "import torchvision\n",
    "from torchvision import transforms, datasets\n",
    "import numpy as np"
   ]
  },
  {
   "cell_type": "code",
   "execution_count": 2,
   "metadata": {},
   "outputs": [],
   "source": [
    "train = datasets.MNIST(\"../data/\", train=True, download=True, transform=transforms.ToTensor())\n",
    "test = datasets.MNIST(\"../data/\", train=False, download=True, transform=transforms.ToTensor())"
   ]
  },
  {
   "cell_type": "code",
   "execution_count": 3,
   "metadata": {},
   "outputs": [],
   "source": [
    "IM_SIZE = 28 * 28\n",
    "IM_SHAPE = (28, 28)\n",
    "CPU_training = False\n",
    "BATCH = 64\n",
    "EPOCHS = 1\n",
    "\n",
    "use_cuda =  torch.cuda.is_available() and not CPU_training\n",
    "device = torch.device(\"cuda\" if use_cuda else \"cpu\")\n",
    "\n",
    "trainset = torch.utils.data.DataLoader(train, batch_size=BATCH, shuffle=True, num_workers=6, pin_memory=use_cuda)\n",
    "testset = torch.utils.data.DataLoader(test, batch_size=BATCH, shuffle=True, num_workers=6, pin_memory=use_cuda)"
   ]
  },
  {
   "cell_type": "code",
   "execution_count": 9,
   "metadata": {},
   "outputs": [],
   "source": [
    "def nets(): \n",
    "    return nn.Sequential(nn.Conv2d(1, 1, kernel_size=1), \n",
    "                         nn.LeakyReLU(True), \n",
    "                         nn.Conv2d(1, 1, kernel_size=1), \n",
    "                         nn.LeakyReLU(True), \n",
    "                         nn.Conv2d(1, 1, kernel_size=1), \n",
    "                         nn.Sigmoid())\n",
    "def nett():\n",
    "    return nn.Sequential(nn.Conv2d(1, 1, kernel_size=1), \n",
    "                         nn.LeakyReLU(True), \n",
    "                         nn.Conv2d(1, 1, kernel_size=1), \n",
    "                         nn.LeakyReLU(True), \n",
    "                         nn.Conv2d(1, 1, kernel_size=1))\n",
    "\n",
    "class CouplingLayer(nn.Module):\n",
    "    def __init__(self, shape, first=True):\n",
    "        super().__init__()\n",
    "        size = shape[0] * shape[1]\n",
    "        mask = np.zeros(shape) if first else np.ones(shape)\n",
    "        mask[::2,::2] = first\n",
    "        mask[1::2,1::2] = first\n",
    "        self.mask1 = nn.Parameter(torch.from_numpy(np.array(mask).astype(np.float32)), requires_grad=False).to(device) \n",
    "        self.mask2 = (1 - self.mask1)\n",
    "        self.translate = nett()\n",
    "        self.scale = nets()\n",
    "\n",
    "    def forward(self, args):\n",
    "        if self.training: \n",
    "            x, log_det_J = args\n",
    "        else:\n",
    "            x = args\n",
    "        x1 = x * self.mask1\n",
    "        x2 = x * self.mask2\n",
    "        s = self.scale(x1) * self.mask2\n",
    "        t = self.translate(x1) * self.mask2\n",
    "        y2 = x2 * torch.exp(s) + t\n",
    "        y = x1 + y2\n",
    "        if self.training:\n",
    "            log_det_J += s.sum(dim=(1,2,3))\n",
    "            return y, log_det_J\n",
    "        return y"
   ]
  },
  {
   "cell_type": "code",
   "execution_count": 10,
   "metadata": {},
   "outputs": [],
   "source": [
    "class RealNVP(nn.Module):\n",
    "    def __init__(self, shape):\n",
    "        super().__init__()\n",
    "        self.shape = shape\n",
    "        self.size = shape[0] * shape[1] \n",
    "        self.prior = distributions.MultivariateNormal(torch.zeros(self.size, device=device), torch.eye(self.size, device=device))\n",
    "        self.encoder = nn.Sequential(CouplingLayer(shape), \n",
    "                                     CouplingLayer(shape, False),\n",
    "                                     CouplingLayer(shape), \n",
    "                                     CouplingLayer(shape, False),\n",
    "                                     CouplingLayer(shape), \n",
    "                                     CouplingLayer(shape, False))\n",
    "    \n",
    "    def forward(self, x):\n",
    "        return self.encoder(x)\n",
    "    \n",
    "    def backward(self, y):\n",
    "        return self.encoder[::-1](y)\n",
    "    \n",
    "    def sample(self, batchSize=1):\n",
    "        y = self.prior.sample((batchSize, 1))\n",
    "        y = y.view(-1, 1, *self.shape)\n",
    "        return self.backward(y)\n",
    "    \n",
    "    def log_prob(self, x):\n",
    "        y, logp = self(x)\n",
    "        y = y.view(-1, self.size)\n",
    "        return self.prior.log_prob(y) + logp\n",
    "        "
   ]
  },
  {
   "cell_type": "code",
   "execution_count": 11,
   "metadata": {},
   "outputs": [],
   "source": [
    "def train(network):\n",
    "    net = network(IM_SHAPE).to(device).train()\n",
    "    optimizer = optim.Adam(net.parameters(), lr=0.0001)\n",
    "\n",
    "    for epoch in range(EPOCHS):\n",
    "        for X, _ in trainset:\n",
    "            X = X.to(device)\n",
    "            optimizer.zero_grad()\n",
    "            loss = -net.log_prob((X, X.new_zeros(X.shape[0]))).mean()\n",
    "            loss.backward(retain_graph=True)\n",
    "            optimizer.step()\n",
    "        print(epoch, loss)\n",
    "    \n",
    "    return net"
   ]
  },
  {
   "cell_type": "code",
   "execution_count": 12,
   "metadata": {},
   "outputs": [
    {
     "name": "stdout",
     "output_type": "stream",
     "text": [
      "0 tensor(2480.5410, device='cuda:0', grad_fn=<NegBackward>)\n"
     ]
    }
   ],
   "source": [
    "net_RealNVP = train(RealNVP)\n"
   ]
  },
  {
   "cell_type": "code",
   "execution_count": 14,
   "metadata": {},
   "outputs": [
    {
     "name": "stdout",
     "output_type": "stream",
     "text": [
      "torch.Size([1, 1, 28, 28])\n",
      "torch.Size([1, 1, 28, 28])\n",
      "torch.Size([1, 1, 28, 28])\n",
      "torch.Size([1, 1, 28, 28])\n",
      "torch.Size([1, 1, 28, 28])\n",
      "torch.Size([1, 1, 28, 28])\n"
     ]
    },
    {
     "ename": "NameError",
     "evalue": "name 'plt' is not defined",
     "output_type": "error",
     "traceback": [
      "\u001b[1;31m---------------------------------------------------------------------------\u001b[0m",
      "\u001b[1;31mNameError\u001b[0m                                 Traceback (most recent call last)",
      "\u001b[1;32m<ipython-input-14-ee8211c11965>\u001b[0m in \u001b[0;36m<module>\u001b[1;34m\u001b[0m\n\u001b[0;32m      1\u001b[0m \u001b[0mnet_RealNVP\u001b[0m\u001b[1;33m.\u001b[0m\u001b[0meval\u001b[0m\u001b[1;33m(\u001b[0m\u001b[1;33m)\u001b[0m\u001b[1;33m\u001b[0m\u001b[1;33m\u001b[0m\u001b[0m\n\u001b[0;32m      2\u001b[0m \u001b[0mX\u001b[0m \u001b[1;33m=\u001b[0m \u001b[0mnet_RealNVP\u001b[0m\u001b[1;33m.\u001b[0m\u001b[0msample\u001b[0m\u001b[1;33m(\u001b[0m\u001b[1;33m)\u001b[0m\u001b[1;33m.\u001b[0m\u001b[0mcpu\u001b[0m\u001b[1;33m(\u001b[0m\u001b[1;33m)\u001b[0m\u001b[1;33m\u001b[0m\u001b[1;33m\u001b[0m\u001b[0m\n\u001b[1;32m----> 3\u001b[1;33m \u001b[0mplt\u001b[0m\u001b[1;33m.\u001b[0m\u001b[0mimshow\u001b[0m\u001b[1;33m(\u001b[0m\u001b[0mX\u001b[0m\u001b[1;33m[\u001b[0m\u001b[1;36m0\u001b[0m\u001b[1;33m]\u001b[0m\u001b[1;33m.\u001b[0m\u001b[0mview\u001b[0m\u001b[1;33m(\u001b[0m\u001b[0mIM_SHAPE\u001b[0m\u001b[1;33m)\u001b[0m\u001b[1;33m)\u001b[0m\u001b[1;33m\u001b[0m\u001b[1;33m\u001b[0m\u001b[0m\n\u001b[0m",
      "\u001b[1;31mNameError\u001b[0m: name 'plt' is not defined"
     ]
    }
   ],
   "source": [
    "net_RealNVP.eval()\n",
    "X = net_RealNVP.sample().cpu()\n",
    "plt.imshow(X[0].view(IM_SHAPE))"
   ]
  },
  {
   "cell_type": "code",
   "execution_count": null,
   "metadata": {},
   "outputs": [],
   "source": []
  }
 ],
 "metadata": {
  "kernelspec": {
   "display_name": "Python 3",
   "language": "python",
   "name": "python3"
  },
  "language_info": {
   "codemirror_mode": {
    "name": "ipython",
    "version": 3
   },
   "file_extension": ".py",
   "mimetype": "text/x-python",
   "name": "python",
   "nbconvert_exporter": "python",
   "pygments_lexer": "ipython3",
   "version": "3.7.6"
  }
 },
 "nbformat": 4,
 "nbformat_minor": 4
}
