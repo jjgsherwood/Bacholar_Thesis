{
 "cells": [
  {
   "cell_type": "code",
   "execution_count": 1,
   "metadata": {},
   "outputs": [],
   "source": [
    "import torch\n",
    "import torch.nn as nn\n",
    "import torch.nn.functional as F\n",
    "import torch.optim as optim\n",
    "from torch import distributions\n",
    "import torchvision\n",
    "from torchvision import transforms, datasets\n",
    "import numpy as np\n",
    "import matplotlib.pyplot as plt\n"
   ]
  },
  {
   "cell_type": "code",
   "execution_count": 2,
   "metadata": {},
   "outputs": [],
   "source": [
    "train = datasets.MNIST(\"../data/\", train=True, download=True, transform=transforms.ToTensor())\n",
    "test = datasets.MNIST(\"../data/\", train=False, download=True, transform=transforms.ToTensor())"
   ]
  },
  {
   "cell_type": "code",
   "execution_count": 3,
   "metadata": {},
   "outputs": [],
   "source": [
    "IM_SIZE = 28 * 28\n",
    "IM_SHAPE = (28, 28)\n",
    "CPU_training = False\n",
    "BATCH = 64\n",
    "EPOCHS = 5\n",
    "\n",
    "use_cuda =  torch.cuda.is_available() and not CPU_training\n",
    "device = torch.device(\"cuda\" if use_cuda else \"cpu\")\n",
    "\n",
    "trainset = torch.utils.data.DataLoader(train, batch_size=BATCH, shuffle=True, num_workers=7, pin_memory=use_cuda)\n",
    "testset = torch.utils.data.DataLoader(test, batch_size=BATCH, shuffle=False, num_workers=7, pin_memory=use_cuda)"
   ]
  },
  {
   "cell_type": "code",
   "execution_count": 4,
   "metadata": {},
   "outputs": [],
   "source": [
    "def nets(size): \n",
    "    hidden_f = 1   \n",
    "    return nn.Sequential(nn.Linear(size, size*hidden_f),\n",
    "                         nn.ReLU(True), \n",
    "#                          nn.Linear(size*hidden_f, size*hidden_f), \n",
    "#                          nn.ReLU(True), \n",
    "                         nn.Linear(size*hidden_f, size),\n",
    "                         nn.Sigmoid())\n",
    "\n",
    "def nett(size):\n",
    "    hidden_f = 1\n",
    "    return nn.Sequential(nn.Linear(size, size*hidden_f),\n",
    "                         nn.ReLU(True), \n",
    "#                          nn.Linear(size*hidden_f, size*hidden_f),  \n",
    "#                          nn.ReLU(True), \n",
    "                         nn.Linear(size*hidden_f, size))\n",
    "\n",
    "class CouplingLayer(nn.Module):\n",
    "    def __init__(self, size, reverse=False):\n",
    "        super().__init__()\n",
    "        self.size = size // 2 \n",
    "        self.translate = nett(self.size)\n",
    "        self.scale = nets(self.size)\n",
    "        self.reverse = reverse\n",
    "        \n",
    "    def forward(self, args):\n",
    "        x, log_det_J = args\n",
    "        x1, x2 = torch.split(x, self.size, 1)\n",
    "#         if self.reverse:\n",
    "#             x2, x1 = x1, x2\n",
    "        s = self.scale(x1)\n",
    "        t = self.translate(x1)\n",
    "        y2 = x2 * torch.exp(s) + t\n",
    "        y = torch.cat((x1, y2), 1)\n",
    "        log_det_J += s.sum(dim=1)\n",
    "        return y, log_det_J\n",
    "\n",
    "    def inverse(self, y):\n",
    "        y1, y2 = torch.split(y, self.size, 1)\n",
    "#         if self.reverse:\n",
    "#             y2, y1 = y1, y2        \n",
    "        s = self.scale(y1)\n",
    "        t = self.translate(y1)\n",
    "        x2 = (y2 - t) * torch.exp(-s)\n",
    "        return torch.cat((y1, x2), 1) \n",
    "    \n",
    "class CouplingLayer_nice(nn.Module):\n",
    "    def __init__(self, size, reverse=False):\n",
    "        super().__init__()\n",
    "        self.size = size // 2 \n",
    "        self.translate = nett(self.size)\n",
    "        self.reverse = reverse\n",
    "        \n",
    "    def forward(self, x):\n",
    "        x1, x2 = torch.split(x, self.size, 1)\n",
    "#         if self.reverse:\n",
    "#             x2, x1 = x1, x2        \n",
    "        t = self.translate(x1)\n",
    "        y2 = x2 + t\n",
    "        return torch.cat((x1, y2), 1)\n",
    "\n",
    "    def inverse(self, y):\n",
    "        y1, y2 = torch.split(y, self.size, 1)\n",
    "#         if self.reverse:\n",
    "#             y2, y1 = y1, y2          \n",
    "        t = self.translate(y1)\n",
    "        x2 = y2 - t\n",
    "        return torch.cat((y1, x2), 1)\n",
    "    \n",
    "class HH(nn.Module):\n",
    "    def __init__(self, size, num_vectors=None):\n",
    "        super().__init__()\n",
    "        self.size = size\n",
    "        self.num_vectors = num_vectors or 2 * (self.size // 2 + 1)\n",
    "        self.vectors = nn.Parameter(torch.Tensor(self.num_vectors, self.size, 1))\n",
    "        self.reset_parameters()\n",
    "\n",
    "    def reset_parameters(self):\n",
    "        nn.init.uniform_(self.vectors, -1, 1)\n",
    "        self.vectors.data.copy_(self.vectors / self.vectors.norm(dim=1, keepdim=True))\n",
    "\n",
    "    def forward(self, x):\n",
    "        Q = self.bmm_naive_cascade()\n",
    "        return x @ Q.t()\n",
    "\n",
    "    def inverse(self, x):\n",
    "        Q = self.bmm_naive_cascade()\n",
    "        return x @ Q\n",
    "\n",
    "    # Householder transformation\n",
    "    def _get_bmm_householder_matrices(self):\n",
    "        N, S, _ = self.vectors.size()\n",
    "\n",
    "        outer = torch.bmm(self.vectors, self.vectors.transpose(1, 2))\n",
    "        inner = torch.bmm(self.vectors.transpose(1, 2), self.vectors)\n",
    "        I = torch.eye(S, device=self.vectors.device).expand(N, -1, -1)\n",
    "        hh_matrices = I - 2 * outer / (inner + 1e-16)\n",
    "        return hh_matrices\n",
    "\n",
    "    @staticmethod\n",
    "    def _reduce_mm(matrices):\n",
    "        Q = matrices[0]\n",
    "        for M in matrices[1:]:\n",
    "            Q = torch.mm(Q, M)\n",
    "        return Q\n",
    "\n",
    "\n",
    "    def bmm_naive_cascade(self):\n",
    "        \"\"\"\n",
    "        Args:   \n",
    "            vectors: [NumVectors, Size, 1]\n",
    "        Output:\n",
    "            Q: [Size, Size]\n",
    "        \"\"\"\n",
    "        matrices = self._get_bmm_householder_matrices()\n",
    "        return HH._reduce_mm(matrices)"
   ]
  },
  {
   "cell_type": "code",
   "execution_count": 5,
   "metadata": {},
   "outputs": [],
   "source": [
    "class RealNVP(nn.Module):\n",
    "    def __init__(self, size):\n",
    "        super().__init__()\n",
    "        self.prior = distributions.MultivariateNormal(torch.zeros(size, device=device), torch.eye(size, device=device))\n",
    "        self.encoder = nn.Sequential(CouplingLayer(size),\n",
    "                                     HH(size, 20),\n",
    "                                     CouplingLayer(size, True),\n",
    "                                     HH(size, 20),\n",
    "                                     CouplingLayer(size), \n",
    "                                     HH(size, 20),\n",
    "                                     CouplingLayer(size, True),\n",
    "                                     HH(size, 20),\n",
    "                                     CouplingLayer(size), \n",
    "                                     HH(size, 20),\n",
    "                                     CouplingLayer(size, True))\n",
    "    \n",
    "    def forward(self, x):\n",
    "        log_det_J = x.new_zeros(x.shape[0])\n",
    "        for layer in self.encoder:\n",
    "            if isinstance(layer, CouplingLayer):\n",
    "                x, log_det_J = layer((x, log_det_J))\n",
    "            else:\n",
    "                x = layer(x)\n",
    "        return x, log_det_J\n",
    "    \n",
    "    def inverse(self, y):\n",
    "        for layer in reversed(self.encoder):\n",
    "            y = layer.inverse(y) \n",
    "        return y\n",
    "    \n",
    "    def sample(self, batchSize=1):\n",
    "        y = self.prior.sample((batchSize,))\n",
    "        return self.inverse(y)\n",
    "    \n",
    "    def log_prob(self, x):\n",
    "        y, logp = self(x)\n",
    "        return self.prior.log_prob(y) - logp\n",
    "    \n",
    "class Nice(nn.Module):\n",
    "    def __init__(self, size):\n",
    "        super().__init__()\n",
    "        self.prior = distributions.MultivariateNormal(torch.zeros(size, device=device), torch.eye(size, device=device))\n",
    "        self.encoder = nn.Sequential(CouplingLayer_nice(size), \n",
    "                                     HH(size, 20),\n",
    "                                     CouplingLayer_nice(size, True),\n",
    "                                     HH(size, 20),\n",
    "                                     CouplingLayer_nice(size), \n",
    "                                     HH(size, 20),\n",
    "                                     CouplingLayer_nice(size, True),\n",
    "                                     HH(size, 20),\n",
    "                                     CouplingLayer_nice(size), \n",
    "                                     HH(size, 20),\n",
    "                                     CouplingLayer_nice(size, True),\n",
    "                                     HH(size, 20),\n",
    "                                     CouplingLayer_nice(size), \n",
    "                                     HH(size, 20),\n",
    "                                     CouplingLayer_nice(size, True))\n",
    "    \n",
    "    def forward(self, x):\n",
    "        return self.encoder(x)   \n",
    "    \n",
    "    def inverse(self, y):\n",
    "        for layer in reversed(self.encoder):\n",
    "            y = layer.inverse(y) \n",
    "        return y\n",
    "    \n",
    "    def sample(self, batchSize=1):\n",
    "        y = self.prior.sample((batchSize,))\n",
    "        return self.inverse(y)\n",
    "    \n",
    "    def log_prob(self, x):\n",
    "        y = self(x)\n",
    "        return self.prior.log_prob(y)    "
   ]
  },
  {
   "cell_type": "code",
   "execution_count": 6,
   "metadata": {},
   "outputs": [],
   "source": [
    "def train(network):\n",
    "    net = network(IM_SIZE).to(device).train()\n",
    "    optimizer = optim.Adam(net.parameters())\n",
    "\n",
    "    for epoch in range(EPOCHS):\n",
    "        for X, _ in trainset:\n",
    "#             plt.imshow(X[0,0])\n",
    "#             plt.show()\n",
    "            X = X.view(-1, IM_SIZE).to(device)\n",
    "            optimizer.zero_grad()\n",
    "            loss = -net.log_prob(X).mean()\n",
    "            \n",
    "#             plt.imshow(net.inverse(net(X))[0].cpu().detach().view(IM_SHAPE))\n",
    "#             plt.show()\n",
    "            \n",
    "            loss.backward(retain_graph=True)\n",
    "            optimizer.step()  \n",
    "#             break\n",
    "#         break\n",
    "        print(epoch, loss)\n",
    "    \n",
    "    return net"
   ]
  },
  {
   "cell_type": "code",
   "execution_count": 7,
   "metadata": {},
   "outputs": [
    {
     "name": "stdout",
     "output_type": "stream",
     "text": [
      "0 tensor(722.7950, device='cuda:0', grad_fn=<NegBackward>)\n",
      "1 tensor(722.2667, device='cuda:0', grad_fn=<NegBackward>)\n",
      "2 tensor(721.9244, device='cuda:0', grad_fn=<NegBackward>)\n",
      "3 tensor(721.6623, device='cuda:0', grad_fn=<NegBackward>)\n",
      "4 tensor(721.7667, device='cuda:0', grad_fn=<NegBackward>)\n"
     ]
    }
   ],
   "source": [
    "net_RealNVP = train(Nice)\n"
   ]
  },
  {
   "cell_type": "code",
   "execution_count": 8,
   "metadata": {},
   "outputs": [
    {
     "data": {
      "image/png": "[encoded data removed]",
      "text/plain": [
       "<Figure size 432x288 with 1 Axes>"
      ]
     },
     "metadata": {
      "needs_background": "light"
     },
     "output_type": "display_data"
    },
    {
     "data": {
      "image/png": "[encoded data removed]",
      "text/plain": [
       "<Figure size 432x288 with 1 Axes>"
      ]
     },
     "metadata": {
      "needs_background": "light"
     },
     "output_type": "display_data"
    },
    {
     "data": {
      "image/png": "[encoded data removed]",
      "text/plain": [
       "<Figure size 432x288 with 1 Axes>"
      ]
     },
     "metadata": {
      "needs_background": "light"
     },
     "output_type": "display_data"
    },
    {
     "data": {
      "image/png": "[encoded data removed]",
      "text/plain": [
       "<Figure size 432x288 with 1 Axes>"
      ]
     },
     "metadata": {
      "needs_background": "light"
     },
     "output_type": "display_data"
    },
    {
     "data": {
      "image/png": "[encoded data removed]",
      "text/plain": [
       "<Figure size 432x288 with 1 Axes>"
      ]
     },
     "metadata": {
      "needs_background": "light"
     },
     "output_type": "display_data"
    },
    {
     "data": {
      "image/png": "[encoded data removed]",
      "text/plain": [
       "<Figure size 432x288 with 1 Axes>"
      ]
     },
     "metadata": {
      "needs_background": "light"
     },
     "output_type": "display_data"
    },
    {
     "data": {
      "image/png": "[encoded data removed]",
      "text/plain": [
       "<Figure size 432x288 with 1 Axes>"
      ]
     },
     "metadata": {
      "needs_background": "light"
     },
     "output_type": "display_data"
    },
    {
     "data": {
      "image/png": "[encoded data removed]",
      "text/plain": [
       "<Figure size 432x288 with 1 Axes>"
      ]
     },
     "metadata": {
      "needs_background": "light"
     },
     "output_type": "display_data"
    },
    {
     "data": {
      "image/png": "[encoded data removed]",
      "text/plain": [
       "<Figure size 432x288 with 1 Axes>"
      ]
     },
     "metadata": {
      "needs_background": "light"
     },
     "output_type": "display_data"
    },
    {
     "data": {
      "image/png": "[encoded data removed]",
      "text/plain": [
       "<Figure size 432x288 with 1 Axes>"
      ]
     },
     "metadata": {
      "needs_background": "light"
     },
     "output_type": "display_data"
    },
    {
     "data": {
      "image/png": "[encoded data removed]",
      "text/plain": [
       "<Figure size 432x288 with 1 Axes>"
      ]
     },
     "metadata": {
      "needs_background": "light"
     },
     "output_type": "display_data"
    },
    {
     "data": {
      "image/png": "[encoded data removed]",
      "text/plain": [
       "<Figure size 432x288 with 1 Axes>"
      ]
     },
     "metadata": {
      "needs_background": "light"
     },
     "output_type": "display_data"
    },
    {
     "data": {
      "image/png": "[encoded data removed]",
      "text/plain": [
       "<Figure size 432x288 with 1 Axes>"
      ]
     },
     "metadata": {
      "needs_background": "light"
     },
     "output_type": "display_data"
    },
    {
     "data": {
      "image/png": "[encoded data removed]",
      "text/plain": [
       "<Figure size 432x288 with 1 Axes>"
      ]
     },
     "metadata": {
      "needs_background": "light"
     },
     "output_type": "display_data"
    },
    {
     "data": {
      "image/png": "[encoded data removed]",
      "text/plain": [
       "<Figure size 432x288 with 1 Axes>"
      ]
     },
     "metadata": {
      "needs_background": "light"
     },
     "output_type": "display_data"
    },
    {
     "data": {
      "image/png": "[encoded data removed]",
      "text/plain": [
       "<Figure size 432x288 with 1 Axes>"
      ]
     },
     "metadata": {
      "needs_background": "light"
     },
     "output_type": "display_data"
    },
    {
     "data": {
      "image/png": "[encoded data removed]",
      "text/plain": [
       "<Figure size 432x288 with 1 Axes>"
      ]
     },
     "metadata": {
      "needs_background": "light"
     },
     "output_type": "display_data"
    },
    {
     "data": {
      "image/png": "[encoded data removed]",
      "text/plain": [
       "<Figure size 432x288 with 1 Axes>"
      ]
     },
     "metadata": {
      "needs_background": "light"
     },
     "output_type": "display_data"
    },
    {
     "data": {
      "image/png": "[encoded data removed]",
      "text/plain": [
       "<Figure size 432x288 with 1 Axes>"
      ]
     },
     "metadata": {
      "needs_background": "light"
     },
     "output_type": "display_data"
    },
    {
     "data": {
      "image/png": "[encoded data removed]",
      "text/plain": [
       "<Figure size 432x288 with 1 Axes>"
      ]
     },
     "metadata": {
      "needs_background": "light"
     },
     "output_type": "display_data"
    }
   ],
   "source": [
    "\n",
    "net_RealNVP.eval()\n",
    "for X, _ in testset:\n",
    "    X = X[:10].view(-1, IM_SIZE).to(device)\n",
    "    y = net_RealNVP(X)\n",
    "    x = net_RealNVP.inverse(y)\n",
    "    break\n",
    "    \n",
    "for i, im in enumerate(x):  \n",
    "    plt.imshow(X[i].cpu().view(IM_SHAPE).detach().numpy())\n",
    "    plt.show()    \n",
    "    plt.imshow(im.cpu().view(IM_SHAPE).detach().numpy())\n",
    "    plt.show()"
   ]
  },
  {
   "cell_type": "code",
   "execution_count": 11,
   "metadata": {},
   "outputs": [],
   "source": [
    "def test(net):\n",
    "    net.eval()\n",
    "    comp_data = np.empty((10000, 784))\n",
    "    comp_label = np.empty((10000,))\n",
    "    loss = 0\n",
    "    with torch.no_grad():\n",
    "        for i, (X, y) in enumerate(testset):\n",
    "            X = X.view(-1, IM_SIZE).to(device)\n",
    "            latent = net(X)\n",
    "            output = net.inverse(latent)\n",
    "            comp_data[BATCH * i: BATCH * (i + 1)] = latent.cpu()\n",
    "            comp_label[BATCH * i: BATCH * (i + 1)] = y\n",
    "\n",
    "            loss += F.mse_loss(output, X)\n",
    "\n",
    "    print(loss / (i + 1))\n",
    "    if use_cuda:\n",
    "        X = X.cpu()\n",
    "        output = output.cpu()\n",
    "        \n",
    "    plt.subplot(141)\n",
    "    plt.imshow(X[0].view(IM_SHAPE))\n",
    "    plt.subplot(142)\n",
    "    plt.imshow(comp_data[0].reshape(IM_SHAPE))\n",
    "    plt.subplot(143)\n",
    "    plt.imshow(output[0].view(IM_SHAPE))\n",
    "    plt.tight_layout()\n",
    "    plt.show()\n",
    "    \n",
    "    return comp_data, comp_label"
   ]
  },
  {
   "cell_type": "code",
   "execution_count": 12,
   "metadata": {},
   "outputs": [
    {
     "name": "stdout",
     "output_type": "stream",
     "text": [
      "tensor(3.1210e-12, device='cuda:0')\n"
     ]
    },
    {
     "data": {
      "image/png": "[encoded data removed]",
      "text/plain": [
       "<Figure size 432x288 with 3 Axes>"
      ]
     },
     "metadata": {
      "needs_background": "light"
     },
     "output_type": "display_data"
    },
    {
     "data": {
      "text/plain": [
       "(array([[-0.02294022,  0.01412178,  0.00379099, ...,  0.01887227,\n",
       "         -0.06293795, -0.03889549],\n",
       "        [-0.0595291 ,  0.01690475, -0.08539272, ..., -0.03694597,\n",
       "          0.05431555, -0.00348487],\n",
       "        [ 0.02515876, -0.00806086,  0.01698587, ...,  0.03826472,\n",
       "         -0.01057565, -0.00014365],\n",
       "        ...,\n",
       "        [ 0.0480707 ,  0.04390032,  0.00058617, ...,  0.00163994,\n",
       "         -0.04263113, -0.00597595],\n",
       "        [-0.01371665,  0.07017686,  0.04285567, ...,  0.03879405,\n",
       "         -0.08872428, -0.0227288 ],\n",
       "        [-0.04482673, -0.07438594, -0.02901376, ...,  0.04204324,\n",
       "          0.02721458, -0.02464484]]),\n",
       " array([7., 2., 1., ..., 4., 5., 6.]))"
      ]
     },
     "execution_count": 12,
     "metadata": {},
     "output_type": "execute_result"
    }
   ],
   "source": [
    "test(net_RealNVP)"
   ]
  },
  {
   "cell_type": "code",
   "execution_count": 13,
   "metadata": {},
   "outputs": [
    {
     "data": {
      "text/plain": [
       "<matplotlib.image.AxesImage at 0x14814b5d088>"
      ]
     },
     "execution_count": 13,
     "metadata": {},
     "output_type": "execute_result"
    },
    {
     "data": {
      "image/png": "[encoded data removed]",
      "text/plain": [
       "<Figure size 432x288 with 1 Axes>"
      ]
     },
     "metadata": {
      "needs_background": "light"
     },
     "output_type": "display_data"
    }
   ],
   "source": [
    "net_RealNVP.eval()\n",
    "X = net_RealNVP.sample().cpu()\n",
    "plt.imshow(X[0].view(IM_SHAPE).detach().numpy())"
   ]
  },
  {
   "cell_type": "code",
   "execution_count": 14,
   "metadata": {},
   "outputs": [
    {
     "ename": "RuntimeError",
     "evalue": "CUDA out of memory. Tried to allocate 48.00 MiB (GPU 0; 4.00 GiB total capacity; 2.91 GiB already allocated; 44.85 MiB free; 2.99 GiB reserved in total by PyTorch)",
     "output_type": "error",
     "traceback": [
      "\u001b[1;31m---------------------------------------------------------------------------\u001b[0m",
      "\u001b[1;31mRuntimeError\u001b[0m                              Traceback (most recent call last)",
      "\u001b[1;32m<ipython-input-14-02c7faf229ef>\u001b[0m in \u001b[0;36m<module>\u001b[1;34m\u001b[0m\n\u001b[0;32m      1\u001b[0m \u001b[0mnet_RealNVP\u001b[0m\u001b[1;33m.\u001b[0m\u001b[0meval\u001b[0m\u001b[1;33m(\u001b[0m\u001b[1;33m)\u001b[0m\u001b[1;33m\u001b[0m\u001b[1;33m\u001b[0m\u001b[0m\n\u001b[0;32m      2\u001b[0m \u001b[0mSAMPLES\u001b[0m \u001b[1;33m=\u001b[0m \u001b[1;36m10\u001b[0m\u001b[1;33m\u001b[0m\u001b[1;33m\u001b[0m\u001b[0m\n\u001b[1;32m----> 3\u001b[1;33m \u001b[0mX\u001b[0m \u001b[1;33m=\u001b[0m \u001b[0mnet_RealNVP\u001b[0m\u001b[1;33m.\u001b[0m\u001b[0msample\u001b[0m\u001b[1;33m(\u001b[0m\u001b[0mSAMPLES\u001b[0m\u001b[1;33m)\u001b[0m\u001b[1;33m.\u001b[0m\u001b[0mcpu\u001b[0m\u001b[1;33m(\u001b[0m\u001b[1;33m)\u001b[0m\u001b[1;33m\u001b[0m\u001b[1;33m\u001b[0m\u001b[0m\n\u001b[0m\u001b[0;32m      4\u001b[0m \u001b[1;32mfor\u001b[0m \u001b[0mi\u001b[0m \u001b[1;32min\u001b[0m \u001b[0mrange\u001b[0m\u001b[1;33m(\u001b[0m\u001b[0mSAMPLES\u001b[0m\u001b[1;33m)\u001b[0m\u001b[1;33m:\u001b[0m\u001b[1;33m\u001b[0m\u001b[1;33m\u001b[0m\u001b[0m\n\u001b[0;32m      5\u001b[0m     \u001b[0mplt\u001b[0m\u001b[1;33m.\u001b[0m\u001b[0mimshow\u001b[0m\u001b[1;33m(\u001b[0m\u001b[0mX\u001b[0m\u001b[1;33m[\u001b[0m\u001b[0mi\u001b[0m\u001b[1;33m]\u001b[0m\u001b[1;33m.\u001b[0m\u001b[0mview\u001b[0m\u001b[1;33m(\u001b[0m\u001b[0mIM_SHAPE\u001b[0m\u001b[1;33m)\u001b[0m\u001b[1;33m.\u001b[0m\u001b[0mdetach\u001b[0m\u001b[1;33m(\u001b[0m\u001b[1;33m)\u001b[0m\u001b[1;33m.\u001b[0m\u001b[0mnumpy\u001b[0m\u001b[1;33m(\u001b[0m\u001b[1;33m)\u001b[0m\u001b[1;33m)\u001b[0m\u001b[1;33m\u001b[0m\u001b[1;33m\u001b[0m\u001b[0m\n",
      "\u001b[1;32m<ipython-input-5-fb6fdf80bb10>\u001b[0m in \u001b[0;36msample\u001b[1;34m(self, batchSize)\u001b[0m\n\u001b[0;32m     67\u001b[0m     \u001b[1;32mdef\u001b[0m \u001b[0msample\u001b[0m\u001b[1;33m(\u001b[0m\u001b[0mself\u001b[0m\u001b[1;33m,\u001b[0m \u001b[0mbatchSize\u001b[0m\u001b[1;33m=\u001b[0m\u001b[1;36m1\u001b[0m\u001b[1;33m)\u001b[0m\u001b[1;33m:\u001b[0m\u001b[1;33m\u001b[0m\u001b[1;33m\u001b[0m\u001b[0m\n\u001b[0;32m     68\u001b[0m         \u001b[0my\u001b[0m \u001b[1;33m=\u001b[0m \u001b[0mself\u001b[0m\u001b[1;33m.\u001b[0m\u001b[0mprior\u001b[0m\u001b[1;33m.\u001b[0m\u001b[0msample\u001b[0m\u001b[1;33m(\u001b[0m\u001b[1;33m(\u001b[0m\u001b[0mbatchSize\u001b[0m\u001b[1;33m,\u001b[0m\u001b[1;33m)\u001b[0m\u001b[1;33m)\u001b[0m\u001b[1;33m\u001b[0m\u001b[1;33m\u001b[0m\u001b[0m\n\u001b[1;32m---> 69\u001b[1;33m         \u001b[1;32mreturn\u001b[0m \u001b[0mself\u001b[0m\u001b[1;33m.\u001b[0m\u001b[0minverse\u001b[0m\u001b[1;33m(\u001b[0m\u001b[0my\u001b[0m\u001b[1;33m)\u001b[0m\u001b[1;33m\u001b[0m\u001b[1;33m\u001b[0m\u001b[0m\n\u001b[0m\u001b[0;32m     70\u001b[0m \u001b[1;33m\u001b[0m\u001b[0m\n\u001b[0;32m     71\u001b[0m     \u001b[1;32mdef\u001b[0m \u001b[0mlog_prob\u001b[0m\u001b[1;33m(\u001b[0m\u001b[0mself\u001b[0m\u001b[1;33m,\u001b[0m \u001b[0mx\u001b[0m\u001b[1;33m)\u001b[0m\u001b[1;33m:\u001b[0m\u001b[1;33m\u001b[0m\u001b[1;33m\u001b[0m\u001b[0m\n",
      "\u001b[1;32m<ipython-input-5-fb6fdf80bb10>\u001b[0m in \u001b[0;36minverse\u001b[1;34m(self, y)\u001b[0m\n\u001b[0;32m     62\u001b[0m     \u001b[1;32mdef\u001b[0m \u001b[0minverse\u001b[0m\u001b[1;33m(\u001b[0m\u001b[0mself\u001b[0m\u001b[1;33m,\u001b[0m \u001b[0my\u001b[0m\u001b[1;33m)\u001b[0m\u001b[1;33m:\u001b[0m\u001b[1;33m\u001b[0m\u001b[1;33m\u001b[0m\u001b[0m\n\u001b[0;32m     63\u001b[0m         \u001b[1;32mfor\u001b[0m \u001b[0mlayer\u001b[0m \u001b[1;32min\u001b[0m \u001b[0mreversed\u001b[0m\u001b[1;33m(\u001b[0m\u001b[0mself\u001b[0m\u001b[1;33m.\u001b[0m\u001b[0mencoder\u001b[0m\u001b[1;33m)\u001b[0m\u001b[1;33m:\u001b[0m\u001b[1;33m\u001b[0m\u001b[1;33m\u001b[0m\u001b[0m\n\u001b[1;32m---> 64\u001b[1;33m             \u001b[0my\u001b[0m \u001b[1;33m=\u001b[0m \u001b[0mlayer\u001b[0m\u001b[1;33m.\u001b[0m\u001b[0minverse\u001b[0m\u001b[1;33m(\u001b[0m\u001b[0my\u001b[0m\u001b[1;33m)\u001b[0m\u001b[1;33m\u001b[0m\u001b[1;33m\u001b[0m\u001b[0m\n\u001b[0m\u001b[0;32m     65\u001b[0m         \u001b[1;32mreturn\u001b[0m \u001b[0my\u001b[0m\u001b[1;33m\u001b[0m\u001b[1;33m\u001b[0m\u001b[0m\n\u001b[0;32m     66\u001b[0m \u001b[1;33m\u001b[0m\u001b[0m\n",
      "\u001b[1;32m<ipython-input-4-f2352f222528>\u001b[0m in \u001b[0;36minverse\u001b[1;34m(self, x)\u001b[0m\n\u001b[0;32m     85\u001b[0m \u001b[1;33m\u001b[0m\u001b[0m\n\u001b[0;32m     86\u001b[0m     \u001b[1;32mdef\u001b[0m \u001b[0minverse\u001b[0m\u001b[1;33m(\u001b[0m\u001b[0mself\u001b[0m\u001b[1;33m,\u001b[0m \u001b[0mx\u001b[0m\u001b[1;33m)\u001b[0m\u001b[1;33m:\u001b[0m\u001b[1;33m\u001b[0m\u001b[1;33m\u001b[0m\u001b[0m\n\u001b[1;32m---> 87\u001b[1;33m         \u001b[0mQ\u001b[0m \u001b[1;33m=\u001b[0m \u001b[0mself\u001b[0m\u001b[1;33m.\u001b[0m\u001b[0mbmm_naive_cascade\u001b[0m\u001b[1;33m(\u001b[0m\u001b[1;33m)\u001b[0m\u001b[1;33m\u001b[0m\u001b[1;33m\u001b[0m\u001b[0m\n\u001b[0m\u001b[0;32m     88\u001b[0m         \u001b[1;32mreturn\u001b[0m \u001b[0mx\u001b[0m \u001b[1;33m@\u001b[0m \u001b[0mQ\u001b[0m\u001b[1;33m\u001b[0m\u001b[1;33m\u001b[0m\u001b[0m\n\u001b[0;32m     89\u001b[0m \u001b[1;33m\u001b[0m\u001b[0m\n",
      "\u001b[1;32m<ipython-input-4-f2352f222528>\u001b[0m in \u001b[0;36mbmm_naive_cascade\u001b[1;34m(self)\u001b[0m\n\u001b[0;32m    113\u001b[0m             \u001b[0mQ\u001b[0m\u001b[1;33m:\u001b[0m \u001b[1;33m[\u001b[0m\u001b[0mSize\u001b[0m\u001b[1;33m,\u001b[0m \u001b[0mSize\u001b[0m\u001b[1;33m]\u001b[0m\u001b[1;33m\u001b[0m\u001b[1;33m\u001b[0m\u001b[0m\n\u001b[0;32m    114\u001b[0m         \"\"\"\n\u001b[1;32m--> 115\u001b[1;33m         \u001b[0mmatrices\u001b[0m \u001b[1;33m=\u001b[0m \u001b[0mself\u001b[0m\u001b[1;33m.\u001b[0m\u001b[0m_get_bmm_householder_matrices\u001b[0m\u001b[1;33m(\u001b[0m\u001b[1;33m)\u001b[0m\u001b[1;33m\u001b[0m\u001b[1;33m\u001b[0m\u001b[0m\n\u001b[0m\u001b[0;32m    116\u001b[0m         \u001b[1;32mreturn\u001b[0m \u001b[0mHH\u001b[0m\u001b[1;33m.\u001b[0m\u001b[0m_reduce_mm\u001b[0m\u001b[1;33m(\u001b[0m\u001b[0mmatrices\u001b[0m\u001b[1;33m)\u001b[0m\u001b[1;33m\u001b[0m\u001b[1;33m\u001b[0m\u001b[0m\n",
      "\u001b[1;32m<ipython-input-4-f2352f222528>\u001b[0m in \u001b[0;36m_get_bmm_householder_matrices\u001b[1;34m(self)\u001b[0m\n\u001b[0;32m     95\u001b[0m         \u001b[0minner\u001b[0m \u001b[1;33m=\u001b[0m \u001b[0mtorch\u001b[0m\u001b[1;33m.\u001b[0m\u001b[0mbmm\u001b[0m\u001b[1;33m(\u001b[0m\u001b[0mself\u001b[0m\u001b[1;33m.\u001b[0m\u001b[0mvectors\u001b[0m\u001b[1;33m.\u001b[0m\u001b[0mtranspose\u001b[0m\u001b[1;33m(\u001b[0m\u001b[1;36m1\u001b[0m\u001b[1;33m,\u001b[0m \u001b[1;36m2\u001b[0m\u001b[1;33m)\u001b[0m\u001b[1;33m,\u001b[0m \u001b[0mself\u001b[0m\u001b[1;33m.\u001b[0m\u001b[0mvectors\u001b[0m\u001b[1;33m)\u001b[0m\u001b[1;33m\u001b[0m\u001b[1;33m\u001b[0m\u001b[0m\n\u001b[0;32m     96\u001b[0m         \u001b[0mI\u001b[0m \u001b[1;33m=\u001b[0m \u001b[0mtorch\u001b[0m\u001b[1;33m.\u001b[0m\u001b[0meye\u001b[0m\u001b[1;33m(\u001b[0m\u001b[0mS\u001b[0m\u001b[1;33m,\u001b[0m \u001b[0mdevice\u001b[0m\u001b[1;33m=\u001b[0m\u001b[0mself\u001b[0m\u001b[1;33m.\u001b[0m\u001b[0mvectors\u001b[0m\u001b[1;33m.\u001b[0m\u001b[0mdevice\u001b[0m\u001b[1;33m)\u001b[0m\u001b[1;33m.\u001b[0m\u001b[0mexpand\u001b[0m\u001b[1;33m(\u001b[0m\u001b[0mN\u001b[0m\u001b[1;33m,\u001b[0m \u001b[1;33m-\u001b[0m\u001b[1;36m1\u001b[0m\u001b[1;33m,\u001b[0m \u001b[1;33m-\u001b[0m\u001b[1;36m1\u001b[0m\u001b[1;33m)\u001b[0m\u001b[1;33m\u001b[0m\u001b[1;33m\u001b[0m\u001b[0m\n\u001b[1;32m---> 97\u001b[1;33m         \u001b[0mhh_matrices\u001b[0m \u001b[1;33m=\u001b[0m \u001b[0mI\u001b[0m \u001b[1;33m-\u001b[0m \u001b[1;36m2\u001b[0m \u001b[1;33m*\u001b[0m \u001b[0mouter\u001b[0m \u001b[1;33m/\u001b[0m \u001b[1;33m(\u001b[0m\u001b[0minner\u001b[0m \u001b[1;33m+\u001b[0m \u001b[1;36m1e-16\u001b[0m\u001b[1;33m)\u001b[0m\u001b[1;33m\u001b[0m\u001b[1;33m\u001b[0m\u001b[0m\n\u001b[0m\u001b[0;32m     98\u001b[0m         \u001b[1;32mreturn\u001b[0m \u001b[0mhh_matrices\u001b[0m\u001b[1;33m\u001b[0m\u001b[1;33m\u001b[0m\u001b[0m\n\u001b[0;32m     99\u001b[0m \u001b[1;33m\u001b[0m\u001b[0m\n",
      "\u001b[1;31mRuntimeError\u001b[0m: CUDA out of memory. Tried to allocate 48.00 MiB (GPU 0; 4.00 GiB total capacity; 2.91 GiB already allocated; 44.85 MiB free; 2.99 GiB reserved in total by PyTorch)"
     ]
    }
   ],
   "source": [
    "net_RealNVP.eval()\n",
    "SAMPLES = 10\n",
    "X = net_RealNVP.sample(SAMPLES).cpu()\n",
    "for i in range(SAMPLES):\n",
    "    plt.imshow(X[i].view(IM_SHAPE).detach().numpy())\n",
    "    plt.show()\n",
    "    "
   ]
  },
  {
   "cell_type": "code",
   "execution_count": null,
   "metadata": {},
   "outputs": [],
   "source": []
  }
 ],
 "metadata": {
  "kernelspec": {
   "display_name": "Python 3",
   "language": "python",
   "name": "python3"
  },
  "language_info": {
   "codemirror_mode": {
    "name": "ipython",
    "version": 3
   },
   "file_extension": ".py",
   "mimetype": "text/x-python",
   "name": "python",
   "nbconvert_exporter": "python",
   "pygments_lexer": "ipython3",
   "version": "3.7.4"
  }
 },
 "nbformat": 4,
 "nbformat_minor": 4
}
