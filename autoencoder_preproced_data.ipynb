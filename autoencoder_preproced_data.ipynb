{
 "cells": [
  {
   "cell_type": "code",
   "execution_count": 4,
   "metadata": {},
   "outputs": [],
   "source": [
    "from sklearn.base import BaseEstimator, ClassifierMixin\n",
    "from sklearn.utils.validation import check_array, check_is_fitted\n",
    "\n",
    "import numpy as np\n",
    "import matplotlib.pyplot as plt\n",
    "import os\n",
    "import copy\n",
    "import inspect\n",
    "import random\n",
    "import shutil\n",
    "\n",
    "from datetime import datetime\n",
    "from dateutil.relativedelta import relativedelta\n",
    "\n",
    "from scipy import optimize, ndimage\n",
    "from sklearn import decomposition, cluster, model_selection, metrics\n",
    "import sklearn\n",
    "\n",
    "import torch\n",
    "import torchvision\n",
    "import torch.nn as nn\n",
    "import torch.nn.functional as F\n",
    "import torch.optim as optim\n",
    "\n",
    "import utils.dataset_utils as dataset\n",
    "import utils.train_utils as train"
   ]
  },
  {
   "cell_type": "code",
   "execution_count": 30,
   "metadata": {},
   "outputs": [],
   "source": [
    "def unit_vector_norm(X):\n",
    "    return (X.T / np.sqrt((X**2).sum(axis=1))).T\n",
    "\n",
    "def split_Raman_af(X):\n",
    "    \"\"\"\n",
    "    Removing spikes from the data to extract the autofluorescence.\n",
    "    This is done by applying smoothing filter to the data and then taking the min of the smoothing filter and original data.\n",
    "    \"\"\"\n",
    "    a = X\n",
    "    # remove spikes from data\n",
    "    a1 = ndimage.gaussian_filter(a, (0, 10), mode='nearest')\n",
    "    a = np.min([a, a1], axis=0)\n",
    "\n",
    "    a1 = ndimage.gaussian_filter(a, (0, 20), mode='nearest')\n",
    "    a = np.min([a, a1], axis=0)\n",
    "\n",
    "    a1 = ndimage.gaussian_filter(a, (0, 30), mode='nearest')\n",
    "    a = np.min([a, a1], axis=0)\n",
    "\n",
    "    a1 = ndimage.gaussian_filter(a, (0, 40), mode='nearest')\n",
    "    a = np.min([a, a1], axis=0)\n",
    "\n",
    "    a1 = ndimage.gaussian_filter(a, (0, 50), mode='nearest')\n",
    "    a = np.min([a, a1], axis=0)\n",
    "\n",
    "    a1 = ndimage.gaussian_filter(a, (0, 60), mode='nearest')\n",
    "    a = np.min([a, a1], axis=0)\n",
    "    \n",
    "    # Restore Edges\n",
    "    c = 50\n",
    "    a[:,:c] = X[:,:c]\n",
    "    a[:,-c:] = X[:,-c:]\n",
    "    \n",
    "    #smooth everyting\n",
    "    for _ in range(100):\n",
    "        a1 = ndimage.gaussian_filter(a, (0, 10), mode='nearest')\n",
    "        a = np.min([a, a1], axis=0)\n",
    "        a[:,0] = X[:,0]\n",
    "        \n",
    "    return X-a, a\n",
    "\n",
    "def smoothing(X, s=2):\n",
    "    \"\"\"\n",
    "    Only remove noise from low noise to signal area's to maintain the intensity of the spikes.\n",
    "    Noise is removed with a gaussian filter in spectral dimension.\n",
    "    \"\"\"\n",
    "    grad = ndimage.gaussian_filter(X, (0, 1), order=1)\n",
    "    grad_abs = np.abs(grad)\n",
    "    grad_abs_sm = ndimage.gaussian_filter(grad_abs, (0, 1))\n",
    "    mean_grad = np.mean(grad_abs)\n",
    "    noise_to_signal_quality = ndimage.gaussian_filter((grad_abs_sm < mean_grad).astype(float), (0,s))\n",
    "    return noise_to_signal_quality * ndimage.gaussian_filter(X, (0,s)) + (1-noise_to_signal_quality) * X\n",
    "\n",
    "\n",
    "class View(nn.Module):\n",
    "    def __init__(self, shape):\n",
    "        super().__init__()\n",
    "        self.shape = shape\n",
    "\n",
    "    def forward(self, x):\n",
    "        return x.view(*self.shape)"
   ]
  },
  {
   "cell_type": "code",
   "execution_count": 31,
   "metadata": {},
   "outputs": [],
   "source": [
    "# use 368 to 1750\n",
    "N_WAVE = 2128\n",
    "s = 2\n",
    "start_index, end_index = 0, 2129\n",
    "\n",
    "X = np.load(\"../data/Raman/Alina_art_1_1.npy\", 'r')[:,:,start_index: end_index]\n",
    "\n",
    "wavelength = np.load(\"../data/Raman/wavelength.npy\", 'r')[start_index: end_index]\n",
    "\n",
    "shape_X = X.shape \n",
    "\n",
    "X = copy.copy(X.reshape(-1, X.shape[-1]))\n",
    "\n",
    "ram, afl = split_Raman_af(X)\n",
    "ram_smooth = smoothing(ram, s)"
   ]
  },
  {
   "cell_type": "code",
   "execution_count": 39,
   "metadata": {},
   "outputs": [],
   "source": [
    "class AutoEncoder(nn.Module):\n",
    "    def __init__(self, n_components=10, depth=2, neurons=100, bias=True, **kwargs):\n",
    "        super().__init__()\n",
    "        self.encode = nn.Sequential( \n",
    "            nn.Dropout3d(0.25),\n",
    "            nn.Flatten(),\n",
    "            nn.Linear(N_WAVE, neurons, bias=bias),\n",
    "            nn.ReLU(True),\n",
    "            *((nn.Linear(neurons, neurons, bias=bias),\n",
    "            nn.ReLU(True)) * (depth-1)),\n",
    "            nn.Linear(neurons, n_components, bias=bias),\n",
    "        )\n",
    "        \n",
    "        self.decode = nn.Sequential(\n",
    "            nn.Linear(n_components, neurons, bias=bias),\n",
    "            nn.ReLU(True),\n",
    "            *((nn.Linear(neurons, neurons, bias=bias),\n",
    "            nn.ReLU(True)) * (depth-1)),            \n",
    "            nn.Linear(neurons, N_WAVE, bias=bias),\n",
    "            View((-1,1,1,1,N_WAVE))\n",
    "        )\n",
    "        \n",
    "    def forward(self, x):\n",
    "        return self.decode(self.encode(x))  "
   ]
  },
  {
   "cell_type": "code",
   "execution_count": 40,
   "metadata": {},
   "outputs": [],
   "source": [
    "def MSE_loss(x, model):\n",
    "    W = model.encode(x)\n",
    "    x_ = model.decode(W)\n",
    " \n",
    "    # maximize the difference in reference vectors\n",
    "    reference_spectra_ = (W.T @ x.squeeze())\n",
    "    reference_spectra_ = (reference_spectra_.T / torch.sqrt((reference_spectra_**2).sum(axis=1))).T\n",
    "    max_ref_diff = 0\n",
    "    for i in range(W.size(1)):\n",
    "        for j in range(i + 1, W.size(1)):\n",
    "            max_ref_diff += 1 / (torch.abs(reference_spectra_[i] - reference_spectra_[j]).sum() + 0.5)\n",
    "    max_ref_diff /= (W.size(1) * (W.size(1) - 1)) // 2 #number of combinations\n",
    "    \n",
    "    #MSE loss\n",
    "    MSE = ((x_ - x)**2).sum(4).mean()  \n",
    "    \n",
    "    return MSE + max_ref_diff"
   ]
  },
  {
   "cell_type": "code",
   "execution_count": 41,
   "metadata": {},
   "outputs": [],
   "source": [
    "class ReferenceVectorClassifierAE(BaseEstimator):\n",
    "    def __init__(self, **kwargs):\n",
    "        self.kwargs = {}\n",
    "        self.ae_kwargs = {}        \n",
    "        self.set_params(**kwargs)\n",
    "\n",
    "        _use_cuda = torch.cuda.is_available() and kwargs['cuda']\n",
    "        if _use_cuda:\n",
    "            torch.backends.cudnn.enabled = True\n",
    "            torch.backends.cudnn.benchmark = True\n",
    "        self.device = torch.device('cuda' if _use_cuda else 'cpu')        \n",
    "        \n",
    "    def fit(self, x, **kwargs):\n",
    "        self.set_params(**kwargs)\n",
    "        X = unit_vector_norm(x)\n",
    "        \n",
    "        ###################### Autoencoder ################################\n",
    "        self.model = AutoEncoder(**self.ae_kwargs).to(self.device)\n",
    "        \n",
    "        parameters = filter(lambda x: x.requires_grad, self.model.parameters())\n",
    "        self.optimizer = optim.Adam(parameters)        \n",
    "        train_loader, test_loader = dataset.load_liver(X, self.kwargs['batch_size'])\n",
    "        \n",
    "        for epoch in range(self.kwargs['epochs']):\n",
    "            print('-'*50)\n",
    "            print('Epoch {:3d}/{:3d}'.format(epoch+1, self.kwargs['epochs']))\n",
    "            start_time = datetime.now()\n",
    "            train.train(self.model, self.optimizer, train_loader, self.kwargs['loss_func'], self.kwargs['log_step'], self.device)\n",
    "            end_time = datetime.now()\n",
    "            time_diff = relativedelta(end_time, start_time)\n",
    "            print('Elapsed time: {}h {}m {}s'.format(time_diff.hours, time_diff.minutes, time_diff.seconds))\n",
    "            loss = train.test(self.model, test_loader, self.kwargs['loss_func'], self.device)\n",
    "            print('Validation| bits: {:2.2f}'.format(loss), flush=True)    \n",
    "          \n",
    "        self.model.eval()\n",
    "        with torch.no_grad():\n",
    "            W = self.model.encode(dataset.load_liver_all(X).to(self.device))\n",
    "        self.z = W\n",
    "        W = W.cpu().detach().numpy()\n",
    "                   \n",
    "        ###################### reference spectra ################################\n",
    "#         W = W * (W > 0) #relu\n",
    "        self.reference_spectra_ = unit_vector_norm(W.T @ X)    \n",
    "        self.ref_org = unit_vector_norm(W.T @ x)\n",
    "                \n",
    "        # Return the classifier\n",
    "        return self\n",
    "\n",
    "    \n",
    "    def predict(self, X):\n",
    "        \"\"\"\n",
    "        predict transforms the data into the reference space. Min weight should be 0 or higher then 'min_weight'\n",
    "        The error is the NMSE, where the MSE is normalised by the signal strength. \n",
    "        error.shape = X.shape[0], so for each data point the error is calculated.\n",
    "        \"\"\"\n",
    "        # Check is fit had been called\n",
    "        check_is_fitted(self)\n",
    "\n",
    "        # Input validation\n",
    "        X = check_array(X)\n",
    "        X = unit_vector_norm(X)\n",
    "        \n",
    "        ###################### RCA ################################           \n",
    "        RCA_vector = np.array([optimize.nnls(self.reference_spectra_.T, X[i,:])[0] for i in range(X.shape[0])])\n",
    "\n",
    "        return RCA_vector\n",
    "    \n",
    "    def get_reference_vectors(self):\n",
    "        return self.reference_spectra_\n",
    "\n",
    "    def get_org_reference_vectors(self):\n",
    "        return self.ref_org    \n",
    "    \n",
    "    def get_params(self, deep=False):\n",
    "        return self.kwargs\n",
    "    \n",
    "    def set_params(self, **kwargs):\n",
    "        self.kwargs.update(kwargs)\n",
    "        self.ae_kwargs.update({k:v  for k,v in kwargs.items() if k in list(inspect.signature(AutoEncoder).parameters.keys())})     \n",
    "        return self"
   ]
  },
  {
   "cell_type": "code",
   "execution_count": 43,
   "metadata": {},
   "outputs": [],
   "source": [
    "def error_map(estimator, X, y=None):\n",
    "    RCA = estimator.predict(X)\n",
    "    ref_vec = estimator.get_reference_vectors()\n",
    "    return ((RCA @ ref_vec - X)**2).mean(1)\n",
    "\n",
    "def score_func(estimator, X, y=None):\n",
    "    X = unit_vector_norm(X)\n",
    "    return error_map(estimator, X).mean()\n",
    "\n",
    "def print_mean_std(X):\n",
    "    return f\"{X.mean():<12.4e}{X.std():<12.4e}\"\n",
    "\n",
    "def cross_val_X_Y_Z(rvc, X, Y, Z):\n",
    "    rvc.fit(np.concatenate((X, Y), axis=0))\n",
    "    return score_func(rvc, Z)"
   ]
  },
  {
   "cell_type": "code",
   "execution_count": null,
   "metadata": {},
   "outputs": [],
   "source": [
    "kwargs = {'n_components': 4,\n",
    "          'batch_size': 16,\n",
    "          'cuda': True,\n",
    "          'log_step': 10,\n",
    "          'loss_func': MSE_loss,\n",
    "          'epochs': 10,\n",
    "          'depth': 5,\n",
    "          'neurons': 500,\n",
    "          'bias': True\n",
    "         }"
   ]
  },
  {
   "cell_type": "code",
   "execution_count": null,
   "metadata": {},
   "outputs": [
    {
     "name": "stdout",
     "output_type": "stream",
     "text": [
      "--------------------------------------------------\n",
      "Epoch   1/ 10\n",
      "  2020-06-09 12:32:10|     0/   38| bits: 3.56\n",
      "  2020-06-09 12:32:11|    10/   38| bits: 0.59\n",
      "  2020-06-09 12:32:11|    20/   38| bits: 0.48\n",
      "  2020-06-09 12:32:11|    30/   38| bits: 0.43\n",
      "Elapsed time: 0h 0m 3s\n",
      "Validation| bits: 0.41\n",
      "--------------------------------------------------\n",
      "Epoch   2/ 10\n",
      "  2020-06-09 12:32:19|     0/   38| bits: 0.39\n",
      "  2020-06-09 12:32:20|    10/   38| bits: 0.41\n",
      "  2020-06-09 12:32:20|    20/   38| bits: 0.37\n",
      "  2020-06-09 12:32:20|    30/   38| bits: 0.19\n",
      "Elapsed time: 0h 0m 4s\n",
      "Validation| bits: 0.11\n",
      "--------------------------------------------------\n",
      "Epoch   3/ 10\n",
      "  2020-06-09 12:32:24|     0/   38| bits: 0.33\n",
      "  2020-06-09 12:32:24|    10/   38| bits: 0.18\n",
      "  2020-06-09 12:32:24|    20/   38| bits: 0.18\n",
      "  2020-06-09 12:32:25|    30/   38| bits: 0.09\n",
      "Elapsed time: 0h 0m 2s\n",
      "Validation| bits: 0.07\n",
      "--------------------------------------------------\n",
      "Epoch   4/ 10\n",
      "  2020-06-09 12:32:29|     0/   38| bits: 0.20\n",
      "  2020-06-09 12:32:29|    10/   38| bits: 0.11\n",
      "  2020-06-09 12:32:29|    20/   38| bits: 0.23\n",
      "  2020-06-09 12:32:30|    30/   38| bits: 0.13\n",
      "Elapsed time: 0h 0m 3s\n"
     ]
    }
   ],
   "source": [
    "rvc = ReferenceVectorClassifierAE(**kwargs)\n",
    "rvc.fit(ram_smooth)"
   ]
  },
  {
   "cell_type": "code",
   "execution_count": 22,
   "metadata": {},
   "outputs": [
    {
     "name": "stdout",
     "output_type": "stream",
     "text": [
      "fit score:  0.00016779626280948915\n"
     ]
    },
    {
     "data": {
      "image/png": "[encoded data removed]",
      "text/plain": [
       "<Figure size 1440x288 with 1 Axes>"
      ]
     },
     "metadata": {
      "needs_background": "light"
     },
     "output_type": "display_data"
    },
    {
     "data": {
      "image/png": "[encoded data removed]",
      "text/plain": [
       "<Figure size 1440x288 with 1 Axes>"
      ]
     },
     "metadata": {
      "needs_background": "light"
     },
     "output_type": "display_data"
    },
    {
     "data": {
      "image/png": "[encoded data removed]",
      "text/plain": [
       "<Figure size 1440x288 with 1 Axes>"
      ]
     },
     "metadata": {
      "needs_background": "light"
     },
     "output_type": "display_data"
    }
   ],
   "source": [
    "RCA_vector = rvc.predict(X)\n",
    "\n",
    "print(\"fit score: \", score_func(rvc, X))\n",
    "\n",
    "RCA_vector = RCA_vector - RCA_vector.min(0)\n",
    "RCA_vector /= RCA_vector.max(0)\n",
    "\n",
    "plt.figure(figsize = (20,4))\n",
    "plt.imshow(np.swapaxes(RCA_vector.reshape((*shape_X[:2], kwargs['n_components'])),0,1)[::-1,:,:3])\n",
    "plt.show()\n",
    "plt.figure(figsize = (20,4))\n",
    "plt.imshow(np.swapaxes(RCA_vector.reshape((*shape_X[:2], kwargs['n_components'])),0,1)[::-1,:,1:4])\n",
    "plt.show()\n",
    "# plt.figure(figsize = (20,4))\n",
    "# plt.imshow(np.swapaxes(RCA_vector.reshape((*shape_X[:2], kwargs['n_components'])),0,1)[::-1,:,6:9])\n",
    "# plt.show()\n",
    "plt.figure(figsize = (20,4))\n",
    "plt.imshow(error_map(rvc, X).reshape(shape_X[:2]).T, cmap='gray', vmin=0)\n",
    "plt.show()"
   ]
  },
  {
   "cell_type": "code",
   "execution_count": 38,
   "metadata": {},
   "outputs": [
    {
     "data": {
      "image/png": "[encoded data removed]",
      "text/plain": [
       "<Figure size 1440x864 with 1 Axes>"
      ]
     },
     "metadata": {
      "needs_background": "light"
     },
     "output_type": "display_data"
    }
   ],
   "source": [
    "plt.figure(figsize = (20,12))\n",
    "for i, r in enumerate(rvc.get_reference_vectors()):\n",
    "    plt.plot(wavelength, r, label=i)\n",
    "plt.legend()\n",
    "plt.show()"
   ]
  },
  {
   "cell_type": "code",
   "execution_count": null,
   "metadata": {},
   "outputs": [],
   "source": [
    "#reconstructing plot\n",
    "with torch.no_grad():\n",
    "    x_ = rvc.model(dataset.load_liver_all(unit_vector_norm(ram_smooth)).to('cuda:0'))\n",
    "\n",
    "plt.figure(figsize = (20,12))\n",
    "\n",
    "for i in range(0,1000,10):\n",
    "    plt.plot(wavelength, x_[i].flatten().cpu().detach().numpy(),label='rec')\n",
    "#     plt.plot(wavelength, unit_vector_norm(ram_smooth)[i] , label='org')    \n",
    "# plt.legend()\n",
    "plt.show()"
   ]
  }
 ],
 "metadata": {
  "kernelspec": {
   "display_name": "Python 3",
   "language": "python",
   "name": "python3"
  },
  "language_info": {
   "codemirror_mode": {
    "name": "ipython",
    "version": 3
   },
   "file_extension": ".py",
   "mimetype": "text/x-python",
   "name": "python",
   "nbconvert_exporter": "python",
   "pygments_lexer": "ipython3",
   "version": "3.7.6"
  }
 },
 "nbformat": 4,
 "nbformat_minor": 4
}
