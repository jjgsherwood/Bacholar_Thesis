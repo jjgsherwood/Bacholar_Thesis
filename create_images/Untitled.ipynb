{
 "cells": [
  {
   "cell_type": "code",
   "execution_count": 82,
   "metadata": {},
   "outputs": [],
   "source": [
    "import numpy as np\n",
    "import matplotlib.pyplot as plt\n",
    "import random\n",
    "import scipy.linalg as linalg\n"
   ]
  },
  {
   "cell_type": "code",
   "execution_count": 190,
   "metadata": {},
   "outputs": [],
   "source": [
    "x = [random.random()*3 for _ in range(20)]"
   ]
  },
  {
   "cell_type": "code",
   "execution_count": 198,
   "metadata": {},
   "outputs": [],
   "source": [
    "y = [2*i + (random.random()-0.5)/2 for i in x]"
   ]
  },
  {
   "cell_type": "code",
   "execution_count": 199,
   "metadata": {},
   "outputs": [
    {
     "data": {
      "text/plain": [
       "Text(0, 0.5, 'y axis')"
      ]
     },
     "execution_count": 199,
     "metadata": {},
     "output_type": "execute_result"
    },
    {
     "data": {
      "image/png": "[encoded data removed]",
      "text/plain": [
       "<Figure size 432x288 with 1 Axes>"
      ]
     },
     "metadata": {
      "needs_background": "light"
     },
     "output_type": "display_data"
    }
   ],
   "source": [
    "plt.plot(x,y,'.')\n",
    "plt.plot([0,3], [0,6], '--r')\n",
    "plt.xlabel(\"x axis\")\n",
    "plt.ylabel(\"y axis\")"
   ]
  },
  {
   "cell_type": "code",
   "execution_count": 200,
   "metadata": {},
   "outputs": [
    {
     "data": {
      "text/plain": [
       "[<matplotlib.lines.Line2D at 0x7f763462fc10>]"
      ]
     },
     "execution_count": 200,
     "metadata": {},
     "output_type": "execute_result"
    },
    {
     "data": {
      "image/png": "[encoded data removed]",
      "text/plain": [
       "<Figure size 432x288 with 1 Axes>"
      ]
     },
     "metadata": {
      "needs_background": "light"
     },
     "output_type": "display_data"
    }
   ],
   "source": [
    "data = np.array([x,y]).T\n",
    "data = data - np.mean(data, axis = 0)\n",
    "plt.plot(data.T[0], data.T[1], '.')"
   ]
  },
  {
   "cell_type": "code",
   "execution_count": 201,
   "metadata": {},
   "outputs": [
    {
     "name": "stdout",
     "output_type": "stream",
     "text": [
      "[[0.82509077 1.6492409 ]\n",
      " [1.6492409  3.3124681 ]]\n",
      "[[-0.89501168 -0.44604271]\n",
      " [ 0.44604271 -0.89501168]]\n"
     ]
    }
   ],
   "source": [
    "TransformationMatrix = np.dot(data.T, data)\n",
    "sx = np.std(x)\n",
    "sy = np.std(y)\n",
    "\n",
    "# TransformationMatrix[0][0] = TransformationMatrix[0][0]/(sx**2)\n",
    "# TransformationMatrix[1][1] = TransformationMatrix[1][1]/(sy**2)\n",
    "# TransformationMatrix[0][1] = TransformationMatrix[0][1]/(sx*sy)\n",
    "# TransformationMatrix[1][0] = TransformationMatrix[1][0]/(sx*sy)\n",
    "\n",
    "print(TransformationMatrix / 20)\n",
    "eig = np.real(linalg.eig(TransformationMatrix)[0])\n",
    "TransformationMatrix = np.real(linalg.eig(TransformationMatrix)[1])\n",
    "print(TransformationMatrix)\n"
   ]
  },
  {
   "cell_type": "code",
   "execution_count": 202,
   "metadata": {},
   "outputs": [
    {
     "data": {
      "image/png": "[encoded data removed]",
      "text/plain": [
       "<Figure size 432x288 with 1 Axes>"
      ]
     },
     "metadata": {
      "needs_background": "light"
     },
     "output_type": "display_data"
    }
   ],
   "source": [
    "plt.plot(*np.dot(data, TransformationMatrix[:,::-1]).T, '.')\n",
    "plt.xlabel(\"z axis\")\n",
    "plt.ylabel('$\\epsilon$ axis')\n",
    "axes = plt.gca()\n",
    "axes.set_ylim([-1,1])\n",
    "plt.show()\n"
   ]
  },
  {
   "cell_type": "code",
   "execution_count": 134,
   "metadata": {},
   "outputs": [
    {
     "data": {
      "text/plain": [
       "array([ 0.06784708, 59.40936341])"
      ]
     },
     "execution_count": 134,
     "metadata": {},
     "output_type": "execute_result"
    }
   ],
   "source": [
    "eig"
   ]
  },
  {
   "cell_type": "code",
   "execution_count": 135,
   "metadata": {},
   "outputs": [
    {
     "data": {
      "text/plain": [
       "array([[ 6.09919901e-02, -2.50350135e+00],\n",
       "       [-1.05012442e-01, -4.86542390e-01],\n",
       "       [ 5.95303490e-02, -2.15380440e+00],\n",
       "       [ 3.26260008e-02, -2.83062984e+00],\n",
       "       [-4.94851711e-02, -2.54314505e+00],\n",
       "       [ 3.74890608e-02, -9.29863634e-01],\n",
       "       [ 9.83523512e-02,  1.41204937e+00],\n",
       "       [-2.87737699e-02,  5.43550123e-01],\n",
       "       [ 2.11585075e-02,  2.00974067e+00],\n",
       "       [-5.91880105e-02, -6.46359245e-01],\n",
       "       [ 7.67742173e-02,  1.14786283e+00],\n",
       "       [-2.93265513e-03, -9.61803222e-02],\n",
       "       [-1.13445013e-03,  2.01485603e+00],\n",
       "       [-6.77499467e-02,  2.07898473e+00],\n",
       "       [-7.85549556e-02,  9.69096253e-01],\n",
       "       [-3.88229548e-03,  2.20339726e+00],\n",
       "       [ 9.97906733e-02,  7.64023208e-01],\n",
       "       [-1.73355896e-02,  2.19368707e+00],\n",
       "       [-1.89250084e-02, -1.17104599e+00],\n",
       "       [-5.37388554e-02, -1.97617532e+00]])"
      ]
     },
     "execution_count": 135,
     "metadata": {},
     "output_type": "execute_result"
    }
   ],
   "source": [
    "np.dot(data, TransformationMatrix)"
   ]
  },
  {
   "cell_type": "code",
   "execution_count": null,
   "metadata": {},
   "outputs": [],
   "source": []
  }
 ],
 "metadata": {
  "kernelspec": {
   "display_name": "Python 3",
   "language": "python",
   "name": "python3"
  },
  "language_info": {
   "codemirror_mode": {
    "name": "ipython",
    "version": 3
   },
   "file_extension": ".py",
   "mimetype": "text/x-python",
   "name": "python",
   "nbconvert_exporter": "python",
   "pygments_lexer": "ipython3",
   "version": "3.7.7"
  }
 },
 "nbformat": 4,
 "nbformat_minor": 4
}
