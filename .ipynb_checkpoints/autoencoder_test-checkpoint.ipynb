{
 "cells": [
  {
   "cell_type": "code",
   "execution_count": 1,
   "metadata": {},
   "outputs": [],
   "source": [
    "import torch\n",
    "import torchvision\n",
    "from torchvision import transforms, datasets\n",
    "import matplotlib.pyplot as plt\n",
    "import torch.nn as nn\n",
    "import torch.nn.functional as F\n",
    "import torch.optim as optim\n",
    "import os\n",
    "import cv2\n",
    "import numpy as np\n",
    "from tqdm import tqdm\n"
   ]
  },
  {
   "cell_type": "code",
   "execution_count": 2,
   "metadata": {},
   "outputs": [],
   "source": [
    "train = datasets.MNIST(\"../data/\", train=True, download=True, transform = transforms.Compose([transforms.ToTensor()]))\n",
    "test = datasets.MNIST(\"../data/\", train=False, download=True, transform = transforms.Compose([transforms.ToTensor()]))"
   ]
  },
  {
   "cell_type": "code",
   "execution_count": 3,
   "metadata": {},
   "outputs": [],
   "source": [
    "trainset = torch.utils.data.DataLoader(train, batch_size=10, shuffle=True)\n",
    "testset = torch.utils.data.DataLoader(test, batch_size=10, shuffle=True)\n",
    "IM_SIZE = 28*28\n",
    "IM_SHAPE = (28, 28)"
   ]
  },
  {
   "cell_type": "code",
   "execution_count": 4,
   "metadata": {},
   "outputs": [
    {
     "name": "stdout",
     "output_type": "stream",
     "text": [
      "Net(\n",
      "  (fc1_en): Linear(in_features=784, out_features=16, bias=True)\n",
      "  (fc1_de): Linear(in_features=16, out_features=784, bias=True)\n",
      ")\n"
     ]
    }
   ],
   "source": [
    "\n",
    "# Just a simple PCA, works a little bit some pictures can be red.\n",
    "# EPOCH = 3, Batch = 10 and cross_entropie         => loss = 310206\n",
    "# EPOCH = 10, Batch = 50 and cross_entropie        => loss = 314635\n",
    "class Net(nn.Module):\n",
    "    def __init__(self):\n",
    "        super().__init__()\n",
    "        self.fc1_en = nn.Linear(IM_SIZE, 16)\n",
    "        self.fc1_de = nn.Linear(16, IM_SIZE)\n",
    "        \n",
    "    def forward(self, x):\n",
    "        x = F.sigmoid(self.fc1_en(x))\n",
    "        return F.sigmoid(self.fc1_de(x))\n",
    "                \n",
    "net = Net()\n",
    "print(net)  \n"
   ]
  },
  {
   "cell_type": "code",
   "execution_count": 5,
   "metadata": {},
   "outputs": [
    {
     "name": "stdout",
     "output_type": "stream",
     "text": [
      "Net(\n",
      "  (fc1): Linear(in_features=784, out_features=16, bias=True)\n",
      ")\n"
     ]
    }
   ],
   "source": [
    "\n",
    "# Simple PCA weights are tied. \n",
    "# EPOCH = 10, Batch = 10 and cross_entropie        => loss = 280169\n",
    "class Net(nn.Module):\n",
    "    def __init__(self):\n",
    "        super().__init__()\n",
    "        self.fc1 = nn.Linear(IM_SIZE, 16)\n",
    "        \n",
    "    def forward(self, x):\n",
    "        x = F.sigmoid(self.fc1(x))\n",
    "        return F.sigmoid(F.linear(x, self.fc1.weight.transpose(0,1), bias=None))\n",
    "                \n",
    "net = Net()\n",
    "print(net)  "
   ]
  },
  {
   "cell_type": "code",
   "execution_count": 6,
   "metadata": {},
   "outputs": [
    {
     "name": "stdout",
     "output_type": "stream",
     "text": [
      "Net(\n",
      "  (fc1_en): Linear(in_features=784, out_features=64, bias=True)\n",
      "  (fc2_en): Linear(in_features=64, out_features=16, bias=True)\n",
      "  (fc1_de): Linear(in_features=16, out_features=64, bias=True)\n",
      "  (fc2_de): Linear(in_features=64, out_features=784, bias=True)\n",
      "  (dropout): Dropout2d(p=0.5, inplace=False)\n",
      ")\n"
     ]
    }
   ],
   "source": [
    "\n",
    "# 1 hidden layer and dropout:\n",
    "# EPOCH = 3, Batch = 10 and mse                    => loss = 244880\n",
    "# EPOCH = 3, Batch = 10 and cross_entropie         => loss = 192187\n",
    "# EPOCH = 10, Batch = 10 and cross_entropie        => loss = 171493\n",
    "class Net(nn.Module):\n",
    "    def __init__(self):\n",
    "        super().__init__()\n",
    "        self.fc1_en = nn.Linear(IM_SIZE, 64)\n",
    "        self.fc2_en = nn.Linear(64, 16)\n",
    "        self.fc1_de = nn.Linear(16, 64)\n",
    "        self.fc2_de = nn.Linear(64, IM_SIZE)\n",
    "        self.dropout = nn.Dropout2d(0.5)\n",
    "        \n",
    "    def forward(self, x):\n",
    "        x = self.dropout(x)\n",
    "        x = F.sigmoid(self.fc1_en(x))\n",
    "        x = F.sigmoid(self.fc2_en(x))\n",
    "        x = F.sigmoid(self.fc1_de(x))\n",
    "        return F.sigmoid(self.fc2_de(x))\n",
    "                \n",
    "net = Net()\n",
    "print(net)  "
   ]
  },
  {
   "cell_type": "code",
   "execution_count": 7,
   "metadata": {},
   "outputs": [
    {
     "name": "stdout",
     "output_type": "stream",
     "text": [
      "Net(\n",
      "  (fc1): Linear(in_features=784, out_features=64, bias=True)\n",
      "  (fc2): Linear(in_features=64, out_features=16, bias=True)\n",
      "  (dropout): Dropout2d(p=0.5, inplace=False)\n",
      ")\n"
     ]
    }
   ],
   "source": [
    "# 1 hidden layer and dropout:\n",
    "# EPOCH = 10, Batch = 10 and cross_entropie        => loss = 238903\n",
    "class Net(nn.Module):\n",
    "    def __init__(self):\n",
    "        super().__init__()\n",
    "        self.fc1 = nn.Linear(IM_SIZE, 64)\n",
    "        self.fc2 = nn.Linear(64, 16)\n",
    "        self.dropout = nn.Dropout2d(0.5)\n",
    "        \n",
    "    def forward(self, x):\n",
    "        x = self.dropout(x)\n",
    "        x = F.sigmoid(self.fc1(x))\n",
    "        x = F.sigmoid(self.fc2(x))\n",
    "        x = F.sigmoid(F.linear(x, self.fc2.weight.transpose(0,1), bias=None))\n",
    "        return F.sigmoid(F.linear(x, self.fc1.weight.transpose(0,1), bias=None))\n",
    "                \n",
    "net = Net()\n",
    "print(net)  "
   ]
  },
  {
   "cell_type": "code",
   "execution_count": null,
   "metadata": {},
   "outputs": [
    {
     "name": "stderr",
     "output_type": "stream",
     "text": [
      "  0%|          | 0/6000 [00:00<?, ?it/s]/home/jonne/anaconda3/lib/python3.7/site-packages/torch/nn/functional.py:1351: UserWarning: nn.functional.sigmoid is deprecated. Use torch.sigmoid instead.\n",
      "  warnings.warn(\"nn.functional.sigmoid is deprecated. Use torch.sigmoid instead.\")\n",
      " 24%|██▎       | 1423/6000 [00:07<00:24, 187.30it/s]"
     ]
    }
   ],
   "source": [
    "optimizer = optim.Adam(net.parameters(), lr=0.001)\n",
    "EPOCHS = 30\n",
    "\n",
    "for epoch in range(EPOCHS):\n",
    "    for X, _ in tqdm(trainset):\n",
    "        net.zero_grad()\n",
    "        output = net(X.view(-1, IM_SIZE))\n",
    "        loss = F.binary_cross_entropy(output, X.view(-1, IM_SIZE), reduction='sum')\n",
    "        loss.backward()\n",
    "        optimizer.step()\n",
    "    print(epoch, loss)"
   ]
  },
  {
   "cell_type": "code",
   "execution_count": null,
   "metadata": {
    "scrolled": true
   },
   "outputs": [],
   "source": [
    "loss = 0\n",
    "with torch.no_grad():\n",
    "    for X, _ in tqdm(testset):\n",
    "        output = net(X.view(-1, IM_SIZE))\n",
    "        loss += F.mse_loss(output, X.view(-1, IM_SIZE), reduction='sum')\n",
    "\n",
    "print(loss)\n",
    "plt.imshow(X[0].view(IM_SHAPE))\n",
    "plt.show()\n",
    "plt.imshow(output[0].view(IM_SHAPE))\n",
    "plt.show()\n"
   ]
  },
  {
   "cell_type": "code",
   "execution_count": null,
   "metadata": {},
   "outputs": [],
   "source": []
  },
  {
   "cell_type": "code",
   "execution_count": null,
   "metadata": {},
   "outputs": [],
   "source": []
  }
 ],
 "metadata": {
  "kernelspec": {
   "display_name": "Python 3",
   "language": "python",
   "name": "python3"
  },
  "language_info": {
   "codemirror_mode": {
    "name": "ipython",
    "version": 3
   },
   "file_extension": ".py",
   "mimetype": "text/x-python",
   "name": "python",
   "nbconvert_exporter": "python",
   "pygments_lexer": "ipython3",
   "version": "3.7.4"
  }
 },
 "nbformat": 4,
 "nbformat_minor": 2
}
