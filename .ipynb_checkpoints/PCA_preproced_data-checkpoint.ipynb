{
 "cells": [
  {
   "cell_type": "code",
   "execution_count": 9,
   "metadata": {},
   "outputs": [],
   "source": [
    "from sklearn.base import BaseEstimator, ClassifierMixin\n",
    "from sklearn.utils.validation import check_array, check_is_fitted\n",
    "\n",
    "import numpy as np\n",
    "import matplotlib.pyplot as plt\n",
    "import os\n",
    "import copy\n",
    "import inspect\n",
    "import random\n",
    "import shutil\n",
    "\n",
    "from datetime import datetime\n",
    "from dateutil.relativedelta import relativedelta\n",
    "\n",
    "from scipy import optimize, ndimage\n",
    "from sklearn import decomposition, cluster, model_selection, metrics\n",
    "import sklearn\n",
    "\n",
    "import torch\n",
    "import torchvision\n",
    "import torch.nn as nn\n",
    "import torch.nn.functional as F\n",
    "import torch.optim as optim\n",
    "\n",
    "import utils.dataset_utils as dataset\n",
    "import utils.train_utils as train"
   ]
  },
  {
   "cell_type": "code",
   "execution_count": 10,
   "metadata": {},
   "outputs": [],
   "source": [
    "def unit_vector_norm(X):\n",
    "    return (X.T / np.sqrt((X**2).sum(axis=1))).T\n",
    "\n",
    "def split_Raman_af(X):\n",
    "    \"\"\"\n",
    "    Removing spikes from the data to extract the autofluorescence.\n",
    "    This is done by applying smoothing filter to the data and then taking the min of the smoothing filter and original data.\n",
    "    \"\"\"\n",
    "    a = X\n",
    "    # remove spikes from data\n",
    "    a1 = ndimage.gaussian_filter(a, (0, 10), mode='nearest')\n",
    "    a = np.min([a, a1], axis=0)\n",
    "\n",
    "    a1 = ndimage.gaussian_filter(a, (0, 20), mode='nearest')\n",
    "    a = np.min([a, a1], axis=0)\n",
    "\n",
    "    a1 = ndimage.gaussian_filter(a, (0, 30), mode='nearest')\n",
    "    a = np.min([a, a1], axis=0)\n",
    "\n",
    "    a1 = ndimage.gaussian_filter(a, (0, 40), mode='nearest')\n",
    "    a = np.min([a, a1], axis=0)\n",
    "\n",
    "    a1 = ndimage.gaussian_filter(a, (0, 50), mode='nearest')\n",
    "    a = np.min([a, a1], axis=0)\n",
    "\n",
    "    a1 = ndimage.gaussian_filter(a, (0, 60), mode='nearest')\n",
    "    a = np.min([a, a1], axis=0)\n",
    "    \n",
    "    # Restore Edges\n",
    "    c = 50\n",
    "    a[:,:c] = X[:,:c]\n",
    "    a[:,-c:] = X[:,-c:]\n",
    "    \n",
    "    #smooth everyting\n",
    "    for _ in range(100):\n",
    "        a1 = ndimage.gaussian_filter(a, (0, 10), mode='nearest')\n",
    "        a = np.min([a, a1], axis=0)\n",
    "        a[:,0] = X[:,0]\n",
    "        a[:,-1] = X[:,-1]\n",
    "        \n",
    "    return X-a, a\n",
    "\n",
    "def smoothing(X, s=2):\n",
    "    \"\"\"\n",
    "    Only remove noise from low noise to signal area's to maintain the intensity of the spikes.\n",
    "    Noise is removed with a gaussian filter in spectral dimension.\n",
    "    \"\"\"\n",
    "    grad = ndimage.gaussian_filter(X, (0, 1), order=1)\n",
    "    grad_abs = np.abs(grad)\n",
    "    grad_abs_sm = ndimage.gaussian_filter(grad_abs, (0, 1))\n",
    "    mean_grad = np.mean(grad_abs)\n",
    "    noise_to_signal_quality = ndimage.gaussian_filter((grad_abs_sm < mean_grad).astype(float), (0,s))\n",
    "    return noise_to_signal_quality * ndimage.gaussian_filter(X, (0,s)) + (1-noise_to_signal_quality) * X"
   ]
  },
  {
   "cell_type": "code",
   "execution_count": 26,
   "metadata": {},
   "outputs": [],
   "source": [
    "# use 368 to 1750\n",
    "N_WAVE = 2126\n",
    "s = 2\n",
    "start_index, end_index = 0, 2129\n",
    "\n",
    "X = np.load(\"../data/Raman/Alina_art_1_1.npy\", 'r')\n",
    "Y = np.load(\"../data/Raman/Alina_Art_4_2.npy\", 'r')\n",
    "\n",
    "wavelength = np.load(\"../data/Raman/wavelength.npy\", 'r')\n",
    "\n",
    "shape_X = X.shape \n",
    "shape_Y = Y.shape\n",
    "\n",
    "X = copy.copy(X.reshape(-1, X.shape[-1]))\n",
    "Y = copy.copy(Y.reshape(-1, Y.shape[-1]))\n",
    "\n",
    "ram_X, afl_X = split_Raman_af(X)\n",
    "ram_smooth_X = smoothing(ram_X, s)\n",
    "\n",
    "ram_Y, afl_Y = split_Raman_af(Y)\n",
    "ram_smooth_Y = smoothing(ram_Y, s)"
   ]
  },
  {
   "cell_type": "code",
   "execution_count": 29,
   "metadata": {},
   "outputs": [],
   "source": [
    "class ReferenceVectorClassifierPCA(BaseEstimator):\n",
    "    def __init__(self, **kwargs):\n",
    "        self.kwargs = {}\n",
    "        self.pca_kwargs = {}\n",
    "        self.k_means_kwargs = {}        \n",
    "        self.set_params(**kwargs)\n",
    "        \n",
    "    def fit(self, x, **kwargs):\n",
    "        self.set_params(**kwargs)\n",
    "        X = unit_vector_norm(x)\n",
    "        \n",
    "        ###################### PCA ################################\n",
    "        self.pca = decomposition.PCA(**self.pca_kwargs)\n",
    "        self.pca.fit(X)\n",
    "        z = self.pca.transform(X)\n",
    "        self.z = z\n",
    "\n",
    "        ###################### clustering ################################\n",
    "        self.clusters = cluster.KMeans(**self.k_means_kwargs).fit(z)\n",
    "        self.clusters = self.clusters.labels_\n",
    "        \n",
    "        one_hot = np.zeros((X.shape[0], self.kwargs['n_clusters']), dtype=bool)\n",
    "        one_hot[range(X.shape[0]), self.clusters] = 1\n",
    "\n",
    "        ###################### reference spectra ################################  \n",
    "        self.reference_spectra_ = unit_vector_norm(np.array([np.abs(x_) for i, x_ in enumerate(one_hot.T @ X)]))\n",
    "        self.ref_org = np.array([x[one_hot[:,i],:].mean(axis=0) for i in range(self.kwargs['n_clusters'])])\n",
    "                     \n",
    "        # Return the classifier\n",
    "        return self\n",
    "\n",
    "    def predict(self, X):\n",
    "        \"\"\"\n",
    "        predict transforms the data into the reference space. Min weight should be 0 or higher then 'min_weight'\n",
    "        The error is the NMSE, where the MSE is normalised by the signal strength. \n",
    "        error.shape = X.shape[0], so for each data point the error is calculated.\n",
    "        \"\"\"\n",
    "        # Check is fit had been called\n",
    "        check_is_fitted(self)\n",
    "\n",
    "        # Input validation\n",
    "        X = check_array(X)\n",
    "        X = unit_vector_norm(X)\n",
    "                \n",
    "        ###################### RCA ################################\n",
    "        RCA_vector = np.array([optimize.nnls(self.reference_spectra_.T, X[i,:])[0] for i in range(X.shape[0])])\n",
    "        \n",
    "        return RCA_vector  \n",
    "    \n",
    "    def get_reference_vectors(self):\n",
    "        return self.reference_spectra_\n",
    "    \n",
    "    def get_org_reference_vectors(self):\n",
    "        return self.ref_org\n",
    "\n",
    "    def get_params(self, deep=False):\n",
    "        return self.kwargs\n",
    "    \n",
    "    def set_params(self, **kwargs):\n",
    "        self.kwargs.update(kwargs)\n",
    "        self.pca_kwargs.update({k:v  for k,v in kwargs.items() if k in list(inspect.signature(decomposition.PCA).parameters.keys())})\n",
    "        self.k_means_kwargs.update({k:v  for k,v in kwargs.items() if k in list(inspect.signature(cluster.KMeans).parameters.keys())})     \n",
    "        return self"
   ]
  },
  {
   "cell_type": "code",
   "execution_count": 30,
   "metadata": {},
   "outputs": [],
   "source": [
    "def error_map(estimator, X, y=None):\n",
    "    RCA = estimator.predict(X)\n",
    "    ref_vec = estimator.get_reference_vectors()\n",
    "    return ((RCA @ ref_vec - X)**2).mean(1)\n",
    "\n",
    "def score_func(estimator, X, y=None):\n",
    "    X = unit_vector_norm(X)\n",
    "    return error_map(estimator, X).mean()\n",
    "\n",
    "def print_mean_std(X):\n",
    "    return f\"{X.mean():<12.4e}{X.std():<12.4e}\"\n",
    "\n",
    "def cross_val_X_Y_Z(rvc, X, Y, Z):\n",
    "    rvc.fit(np.concatenate((X, Y), axis=0))\n",
    "    return score_func(rvc, Z)"
   ]
  },
  {
   "cell_type": "code",
   "execution_count": 31,
   "metadata": {},
   "outputs": [],
   "source": [
    "kwargs = {'n_clusters': 4,\n",
    "          'n_components': 50,\n",
    "          'batch_size': 16,\n",
    "          'cuda': True,\n",
    "          'log_step': 10,\n",
    "          'epochs': 10,\n",
    "          'depth': 5,\n",
    "          'neurons': 500,\n",
    "          'bias': True\n",
    "         }"
   ]
  },
  {
   "cell_type": "code",
   "execution_count": 32,
   "metadata": {},
   "outputs": [
    {
     "data": {
      "text/plain": [
       "ReferenceVectorClassifierPCA(batch_size=16, bias=True, cuda=True, depth=5,\n",
       "                             epochs=10, log_step=10, n_clusters=4,\n",
       "                             n_components=50, neurons=500)"
      ]
     },
     "execution_count": 32,
     "metadata": {},
     "output_type": "execute_result"
    }
   ],
   "source": [
    "rvc = ReferenceVectorClassifierPCA(**kwargs)\n",
    "rvc.fit(ram_smooth_Y)"
   ]
  },
  {
   "cell_type": "code",
   "execution_count": 34,
   "metadata": {},
   "outputs": [
    {
     "name": "stdout",
     "output_type": "stream",
     "text": [
      "fit score:  6.253115854701143e-06\n"
     ]
    },
    {
     "data": {
      "image/png": "[encoded data removed]",
      "text/plain": [
       "<Figure size 1440x288 with 1 Axes>"
      ]
     },
     "metadata": {
      "needs_background": "light"
     },
     "output_type": "display_data"
    },
    {
     "data": {
      "image/png": "[encoded data removed]",
      "text/plain": [
       "<Figure size 1440x288 with 1 Axes>"
      ]
     },
     "metadata": {
      "needs_background": "light"
     },
     "output_type": "display_data"
    },
    {
     "ename": "ValueError",
     "evalue": "cannot reshape array of size 6300 into shape (23,29)",
     "output_type": "error",
     "traceback": [
      "\u001b[1;31m---------------------------------------------------------------------------\u001b[0m",
      "\u001b[1;31mValueError\u001b[0m                                Traceback (most recent call last)",
      "\u001b[1;32m<ipython-input-34-f9c866e8c93e>\u001b[0m in \u001b[0;36m<module>\u001b[1;34m\u001b[0m\n\u001b[0;32m     15\u001b[0m \u001b[0mplt\u001b[0m\u001b[1;33m.\u001b[0m\u001b[0mshow\u001b[0m\u001b[1;33m(\u001b[0m\u001b[1;33m)\u001b[0m\u001b[1;33m\u001b[0m\u001b[1;33m\u001b[0m\u001b[0m\n\u001b[0;32m     16\u001b[0m \u001b[0mplt\u001b[0m\u001b[1;33m.\u001b[0m\u001b[0mfigure\u001b[0m\u001b[1;33m(\u001b[0m\u001b[0mfigsize\u001b[0m \u001b[1;33m=\u001b[0m \u001b[1;33m(\u001b[0m\u001b[1;36m20\u001b[0m\u001b[1;33m,\u001b[0m\u001b[1;36m4\u001b[0m\u001b[1;33m)\u001b[0m\u001b[1;33m)\u001b[0m\u001b[1;33m\u001b[0m\u001b[1;33m\u001b[0m\u001b[0m\n\u001b[1;32m---> 17\u001b[1;33m \u001b[0mplt\u001b[0m\u001b[1;33m.\u001b[0m\u001b[0mimshow\u001b[0m\u001b[1;33m(\u001b[0m\u001b[0merror_map\u001b[0m\u001b[1;33m(\u001b[0m\u001b[0mrvc\u001b[0m\u001b[1;33m,\u001b[0m \u001b[0mram_smooth_Y\u001b[0m\u001b[1;33m)\u001b[0m\u001b[1;33m.\u001b[0m\u001b[0mreshape\u001b[0m\u001b[1;33m(\u001b[0m\u001b[0mshape_X\u001b[0m\u001b[1;33m[\u001b[0m\u001b[1;33m:\u001b[0m\u001b[1;36m2\u001b[0m\u001b[1;33m]\u001b[0m\u001b[1;33m)\u001b[0m\u001b[1;33m,\u001b[0m \u001b[0mcmap\u001b[0m\u001b[1;33m=\u001b[0m\u001b[1;34m'gray'\u001b[0m\u001b[1;33m,\u001b[0m \u001b[0mvmin\u001b[0m\u001b[1;33m=\u001b[0m\u001b[1;36m0\u001b[0m\u001b[1;33m)\u001b[0m\u001b[1;33m\u001b[0m\u001b[1;33m\u001b[0m\u001b[0m\n\u001b[0m\u001b[0;32m     18\u001b[0m \u001b[0mplt\u001b[0m\u001b[1;33m.\u001b[0m\u001b[0mgca\u001b[0m\u001b[1;33m(\u001b[0m\u001b[1;33m)\u001b[0m\u001b[1;33m.\u001b[0m\u001b[0minvert_yaxis\u001b[0m\u001b[1;33m(\u001b[0m\u001b[1;33m)\u001b[0m\u001b[1;33m\u001b[0m\u001b[1;33m\u001b[0m\u001b[0m\n\u001b[0;32m     19\u001b[0m \u001b[0mplt\u001b[0m\u001b[1;33m.\u001b[0m\u001b[0mshow\u001b[0m\u001b[1;33m(\u001b[0m\u001b[1;33m)\u001b[0m\u001b[1;33m\u001b[0m\u001b[1;33m\u001b[0m\u001b[0m\n",
      "\u001b[1;31mValueError\u001b[0m: cannot reshape array of size 6300 into shape (23,29)"
     ]
    },
    {
     "data": {
      "text/plain": [
       "<Figure size 1440x288 with 0 Axes>"
      ]
     },
     "metadata": {},
     "output_type": "display_data"
    }
   ],
   "source": [
    "RCA_vector = rvc.predict(ram_smooth_Y)\n",
    "\n",
    "print(\"fit score: \", score_func(rvc, ram_smooth_Y))\n",
    "\n",
    "RCA_vector = RCA_vector - RCA_vector.min(0)\n",
    "RCA_vector /= RCA_vector.max(0)\n",
    "\n",
    "plt.figure(figsize = (20,4))\n",
    "plt.imshow(RCA_vector.reshape((*shape_Y[:2], kwargs['n_clusters']))[::-1,:,:3])\n",
    "plt.gca().invert_yaxis()\n",
    "plt.show()\n",
    "plt.figure(figsize = (20,4))\n",
    "plt.imshow(RCA_vector.reshape((*shape_Y[:2], kwargs['n_clusters']))[::-1,:,1:4])\n",
    "plt.gca().invert_yaxis()\n",
    "plt.show()\n",
    "plt.figure(figsize = (20,4))\n",
    "plt.imshow(error_map(rvc, ram_smooth_Y).reshape(shape_X[:2]), cmap='gray', vmin=0)\n",
    "plt.gca().invert_yaxis()\n",
    "plt.show()"
   ]
  },
  {
   "cell_type": "code",
   "execution_count": null,
   "metadata": {},
   "outputs": [],
   "source": [
    "plt.figure(figsize = (20,12))\n",
    "for i, r in enumerate(rvc.get_reference_vectors()):\n",
    "    plt.plot(wavelength, r, label=i)\n",
    "plt.legend()\n",
    "plt.show()"
   ]
  },
  {
   "cell_type": "code",
   "execution_count": null,
   "metadata": {},
   "outputs": [],
   "source": []
  }
 ],
 "metadata": {
  "kernelspec": {
   "display_name": "Python 3",
   "language": "python",
   "name": "python3"
  },
  "language_info": {
   "codemirror_mode": {
    "name": "ipython",
    "version": 3
   },
   "file_extension": ".py",
   "mimetype": "text/x-python",
   "name": "python",
   "nbconvert_exporter": "python",
   "pygments_lexer": "ipython3",
   "version": "3.7.6"
  }
 },
 "nbformat": 4,
 "nbformat_minor": 4
}
