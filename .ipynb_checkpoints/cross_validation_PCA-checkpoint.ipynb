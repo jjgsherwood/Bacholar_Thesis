{
 "cells": [
  {
   "cell_type": "code",
   "execution_count": 17,
   "metadata": {},
   "outputs": [],
   "source": [
    "from sklearn.base import BaseEstimator, ClassifierMixin\n",
    "from sklearn.utils.validation import check_array, check_is_fitted\n",
    "\n",
    "import numpy as np\n",
    "import matplotlib.pyplot as plt\n",
    "import os\n",
    "import copy\n",
    "import inspect\n",
    "\n",
    "from scipy import optimize\n",
    "from sklearn import decomposition, cluster\n"
   ]
  },
  {
   "cell_type": "code",
   "execution_count": 18,
   "metadata": {},
   "outputs": [],
   "source": [
    "kwargs = {'n_clusters': 3,\n",
    "          'n_components': 20}\n",
    "\n",
    "X = np.load(\"../data/HSI/Liver_map_150z25_60s_1TCPOBOP.npy\", 'r')\n",
    "Y = np.load(\"../data/HSI/Liver_map_150z25_60s_2TCPOBOP.npy\", 'r')\n",
    "\n",
    "shape_X = X.shape \n",
    "shape_Y = Y.shape \n",
    "\n",
    "X = copy.copy(X.reshape(-1, X.shape[-1]))\n",
    "Y = copy.copy(Y.reshape(-1, Y.shape[-1]))"
   ]
  },
  {
   "cell_type": "code",
   "execution_count": 61,
   "metadata": {},
   "outputs": [],
   "source": [
    "class ReferenceVectorClassifier(BaseEstimator, ClassifierMixin):\n",
    "    def __init__(self, **kwargs):\n",
    "        self.kwargs = kwargs\n",
    "        self.pca_kwargs = {k:v  for k,v in kwargs.items() if k in list(inspect.signature(decomposition.PCA).parameters.keys())}\n",
    "        self.k_means_kwargs = {k:v  for k,v in kwargs.items() if k in list(inspect.signature(cluster.KMeans).parameters.keys())}\n",
    "        \n",
    "    def fit(self, X):\n",
    "        ###################### PCA ################################\n",
    "        pca = decomposition.PCA(**self.pca_kwargs)\n",
    "        pca.fit(X)\n",
    "        X_pca = pca.transform(X)\n",
    "\n",
    "        ###################### clustering ################################\n",
    "        self.clusters = cluster.KMeans(**self.k_means_kwargs).fit(X_pca)\n",
    "        self.clusters = self.clusters.labels_\n",
    "        \n",
    "        one_hot = np.zeros((X.shape[0], self.kwargs['n_clusters']), dtype=bool)\n",
    "        one_hot[range(X.shape[0]), self.clusters] = 1\n",
    "\n",
    "        ###################### reference spectra ################################\n",
    "        self.reference_spectra_ = np.array([X[one_hot[:,i],:].mean(axis=0) for i in range(self.kwargs['n_clusters'])])\n",
    "  \n",
    "        # Return the classifier\n",
    "        return self\n",
    "\n",
    "    def predict(self, X):\n",
    "        # Check is fit had been called\n",
    "        check_is_fitted(self)\n",
    "\n",
    "        # Input validation\n",
    "        X = check_array(X)\n",
    "        \n",
    "        ###################### RCA ################################\n",
    "        RCA_vector, error = list(zip(*[optimize.nnls(self.reference_spectra_.T, X[i,:]) for i in range(X.shape[0])]))\n",
    "        RCA_vector = np.array(RCA_vector)\n",
    "        self.error = np.array(error)\n",
    "\n",
    "        return RCA_vector"
   ]
  },
  {
   "cell_type": "code",
   "execution_count": 63,
   "metadata": {},
   "outputs": [
    {
     "name": "stdout",
     "output_type": "stream",
     "text": [
      "1820.8607964964797\n",
      "4563.298790807404\n"
     ]
    }
   ],
   "source": [
    "rvc = ReferenceVectorClassifier(**kwargs)\n",
    "rvc.fit(X)\n",
    "\n"
   ]
  },
  {
   "cell_type": "code",
   "execution_count": null,
   "metadata": {},
   "outputs": [],
   "source": []
  }
 ],
 "metadata": {
  "kernelspec": {
   "display_name": "Python 3",
   "language": "python",
   "name": "python3"
  },
  "language_info": {
   "codemirror_mode": {
    "name": "ipython",
    "version": 3
   },
   "file_extension": ".py",
   "mimetype": "text/x-python",
   "name": "python",
   "nbconvert_exporter": "python",
   "pygments_lexer": "ipython3",
   "version": "3.7.6"
  }
 },
 "nbformat": 4,
 "nbformat_minor": 4
}
