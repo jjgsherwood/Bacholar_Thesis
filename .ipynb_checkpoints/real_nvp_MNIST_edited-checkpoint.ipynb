{
 "cells": [
  {
   "cell_type": "code",
   "execution_count": 2,
   "metadata": {},
   "outputs": [],
   "source": [
    "import torch\n",
    "import torch.nn as nn\n",
    "import torch.nn.functional as F\n",
    "import torch.optim as optim\n",
    "\n",
    "from torchvision import transforms, datasets\n",
    "import numpy as np\n",
    "\n",
    "import matplotlib.pyplot as plt\n",
    "%matplotlib inline\n",
    "\n",
    "from modules.householder import HH\n",
    "from modules.couplings import NICE"
   ]
  },
  {
   "cell_type": "code",
   "execution_count": 3,
   "metadata": {},
   "outputs": [],
   "source": [
    "train_dataset = datasets.MNIST(\"/storage/datasets\", train=True, download=False, transform=transforms.ToTensor())\n",
    "test_dataset = datasets.MNIST(\"/storage/datasets\", train=False, download=False, transform=transforms.ToTensor())"
   ]
  },
  {
   "cell_type": "code",
   "execution_count": 4,
   "metadata": {},
   "outputs": [],
   "source": [
    "IM_SIZE = 28 * 28\n",
    "IM_SHAPE = (28, 28)\n",
    "CPU_training = False\n",
    "BATCH = 64\n",
    "EPOCHS = 5\n",
    "\n",
    "use_cuda =  torch.cuda.is_available() and not CPU_training\n",
    "device = torch.device(\"cuda\" if use_cuda else \"cpu\")\n",
    "\n",
    "train_loader = torch.utils.data.DataLoader(train_dataset, batch_size=BATCH, \n",
    "                                           shuffle=True, num_workers=7, pin_memory=use_cuda, drop_last=True)\n",
    "test_loader = torch.utils.data.DataLoader(test_dataset, batch_size=BATCH, \n",
    "                                          shuffle=False, num_workers=7, pin_memory=use_cuda, drop_last=True)"
   ]
  },
  {
   "cell_type": "code",
   "execution_count": 54,
   "metadata": {},
   "outputs": [],
   "source": [
    "def net_slim(size):\n",
    "    return nn.Sequential(\n",
    "        nn.Conv2d(size, 64, kernel_size=1, padding=0),\n",
    "        nn.ReLU(True),\n",
    "        nn.Conv2d(64, 64, kernel_size=3, padding=1),\n",
    "        nn.ReLU(True),\n",
    "        nn.Conv2d(64, size, kernel_size=1, padding=0),\n",
    "    )\n",
    "\n",
    "# def net_wide(size=784//2):\n",
    "#     return nn.Sequential(\n",
    "#         nn.Linear(size, size),\n",
    "#         nn.ReLU(True),\n",
    "#         nn.Linear(size, size)\n",
    "#     )"
   ]
  },
  {
   "cell_type": "code",
   "execution_count": 55,
   "metadata": {},
   "outputs": [],
   "source": [
    "class Downsample(nn.Module):\n",
    "    \n",
    "\n",
    "\n",
    "    def inverse(self, input):\n",
    "        upscale_factor=2\n",
    "        '''\n",
    "        [:, C*r^2, H, W] -> [:, C, H*r, W*r]\n",
    "        '''\n",
    "        batch_size, in_channels, in_height, in_width = input.size()\n",
    "        out_channels = in_channels // (upscale_factor**2)\n",
    "\n",
    "        out_height = in_height * upscale_factor\n",
    "        out_width = in_width * upscale_factor\n",
    "\n",
    "        input_view = input.contiguous().view(batch_size, out_channels, upscale_factor,\n",
    "                                             upscale_factor, in_height, in_width)\n",
    "\n",
    "        output = input_view.permute(0, 1, 4, 2, 5, 3).contiguous()\n",
    "        return output.view(batch_size, out_channels, out_height, out_width)\n",
    "\n",
    "\n",
    "    def forward(self, input):\n",
    "        downscale_factor=2\n",
    "        '''\n",
    "        [:, C, H*r, W*r] -> [:, C*r^2, H, W]\n",
    "        '''\n",
    "        batch_size, in_channels, in_height, in_width = input.size()\n",
    "        out_channels = in_channels * (downscale_factor**2)\n",
    "\n",
    "        out_height = in_height // downscale_factor\n",
    "        out_width = in_width // downscale_factor\n",
    "\n",
    "        input_view = input.contiguous().view(\n",
    "            batch_size, in_channels, out_height, downscale_factor, out_width, downscale_factor\n",
    "        )\n",
    "\n",
    "        output = input_view.permute(0, 1, 3, 5, 2, 4).contiguous()\n",
    "        return output.view(batch_size, out_channels, out_height, out_width)"
   ]
  },
  {
   "cell_type": "code",
   "execution_count": 56,
   "metadata": {},
   "outputs": [],
   "source": [
    "def calculate_bits_per_pixel(ll, size=784):\n",
    "    return 8 - ll / np.log(2) / size"
   ]
  },
  {
   "cell_type": "code",
   "execution_count": 57,
   "metadata": {},
   "outputs": [],
   "source": [
    "class Sequential_VP_Flow(nn.Module):\n",
    "    \n",
    "    def __init__(self, distribution, flow_steps):\n",
    "        super().__init__()\n",
    "        self.flow_steps = nn.Sequential(*flow_steps)\n",
    "        self.distribution = distribution\n",
    "        \n",
    "    def forward(self, x):\n",
    "        return self.flow_steps(x)\n",
    "    \n",
    "    def inverse(self, z):\n",
    "        for m in reversed(self.flow_steps):\n",
    "            z = m.inverse(z)\n",
    "        return z\n",
    "    \n",
    "    def log_prob(self, x):\n",
    "        z = self.forward(x)\n",
    "        z = z.view(z.size(0), -1)\n",
    "        ll = self.distribution.log_prob(z).mean()\n",
    "        return ll\n",
    "    \n",
    "    def sample(self):\n",
    "        z = self.distribution.sample()[None]\n",
    "        x = self.inverse(z)\n",
    "        return x"
   ]
  },
  {
   "cell_type": "code",
   "execution_count": 58,
   "metadata": {},
   "outputs": [
    {
     "data": {
      "text/plain": [
       "torch.Size([3, 2, 5, 5])"
      ]
     },
     "execution_count": 58,
     "metadata": {},
     "output_type": "execute_result"
    }
   ],
   "source": [
    "nn.Conv2d(2, 3, kernel_size=5).weight.shape"
   ]
  },
  {
   "cell_type": "code",
   "execution_count": 62,
   "metadata": {},
   "outputs": [
    {
     "data": {
      "text/plain": [
       "Sequential_VP_Flow(\n",
       "  (flow_steps): Sequential(\n",
       "    (0): Downsample()\n",
       "    (1): NICE(\n",
       "      (net): Sequential(\n",
       "        (0): Conv2d(2, 64, kernel_size=(1, 1), stride=(1, 1))\n",
       "        (1): ReLU(inplace=True)\n",
       "        (2): Conv2d(64, 64, kernel_size=(3, 3), stride=(1, 1), padding=(1, 1))\n",
       "        (3): ReLU(inplace=True)\n",
       "        (4): Conv2d(64, 2, kernel_size=(1, 1), stride=(1, 1))\n",
       "      )\n",
       "    )\n",
       "    (2): NICE(\n",
       "      (net): Sequential(\n",
       "        (0): Conv2d(2, 64, kernel_size=(1, 1), stride=(1, 1))\n",
       "        (1): ReLU(inplace=True)\n",
       "        (2): Conv2d(64, 64, kernel_size=(3, 3), stride=(1, 1), padding=(1, 1))\n",
       "        (3): ReLU(inplace=True)\n",
       "        (4): Conv2d(64, 2, kernel_size=(1, 1), stride=(1, 1))\n",
       "      )\n",
       "    )\n",
       "    (3): Downsample()\n",
       "    (4): NICE(\n",
       "      (net): Sequential(\n",
       "        (0): Conv2d(8, 64, kernel_size=(1, 1), stride=(1, 1))\n",
       "        (1): ReLU(inplace=True)\n",
       "        (2): Conv2d(64, 64, kernel_size=(3, 3), stride=(1, 1), padding=(1, 1))\n",
       "        (3): ReLU(inplace=True)\n",
       "        (4): Conv2d(64, 8, kernel_size=(1, 1), stride=(1, 1))\n",
       "      )\n",
       "    )\n",
       "    (5): NICE(\n",
       "      (net): Sequential(\n",
       "        (0): Conv2d(8, 64, kernel_size=(1, 1), stride=(1, 1))\n",
       "        (1): ReLU(inplace=True)\n",
       "        (2): Conv2d(64, 64, kernel_size=(3, 3), stride=(1, 1), padding=(1, 1))\n",
       "        (3): ReLU(inplace=True)\n",
       "        (4): Conv2d(64, 8, kernel_size=(1, 1), stride=(1, 1))\n",
       "      )\n",
       "    )\n",
       "  )\n",
       ")"
      ]
     },
     "execution_count": 62,
     "metadata": {},
     "output_type": "execute_result"
    }
   ],
   "source": [
    "dist = torch.distributions.MultivariateNormal(torch.zeros(IM_SIZE).to(device), torch.eye(IM_SIZE).to(device))\n",
    "flow = Sequential_VP_Flow(dist, \n",
    "                          flow_steps=[ # 1\n",
    "                              Downsample(), # 4\n",
    "                              NICE(net_slim(2)),\n",
    "                              NICE(net_slim(2)),\n",
    "                              Downsample(),\n",
    "                              NICE(net_slim(8)),\n",
    "                              NICE(net_slim(8)),\n",
    "                          ])\n",
    "flow.to(device)"
   ]
  },
  {
   "cell_type": "code",
   "execution_count": 63,
   "metadata": {},
   "outputs": [],
   "source": [
    "optimizer = optim.Adam(flow.parameters(), 1e-3)"
   ]
  },
  {
   "cell_type": "code",
   "execution_count": 64,
   "metadata": {},
   "outputs": [
    {
     "name": "stdout",
     "output_type": "stream",
     "text": [
      "9.333046374733192\n",
      "9.328957735792423\n",
      "9.328158351120598\n"
     ]
    },
    {
     "ename": "KeyboardInterrupt",
     "evalue": "",
     "output_type": "error",
     "traceback": [
      "\u001b[0;31m---------------------------------------------------------------------------\u001b[0m",
      "\u001b[0;31mKeyboardInterrupt\u001b[0m                         Traceback (most recent call last)",
      "\u001b[0;32m<ipython-input-64-b4ee88bccb9f>\u001b[0m in \u001b[0;36m<module>\u001b[0;34m\u001b[0m\n\u001b[1;32m      9\u001b[0m         \u001b[0moptimizer\u001b[0m\u001b[0;34m.\u001b[0m\u001b[0mzero_grad\u001b[0m\u001b[0;34m(\u001b[0m\u001b[0;34m)\u001b[0m\u001b[0;34m\u001b[0m\u001b[0;34m\u001b[0m\u001b[0m\n\u001b[1;32m     10\u001b[0m         \u001b[0mbits\u001b[0m\u001b[0;34m.\u001b[0m\u001b[0mbackward\u001b[0m\u001b[0;34m(\u001b[0m\u001b[0;34m)\u001b[0m\u001b[0;34m\u001b[0m\u001b[0;34m\u001b[0m\u001b[0m\n\u001b[0;32m---> 11\u001b[0;31m         \u001b[0moptimizer\u001b[0m\u001b[0;34m.\u001b[0m\u001b[0mstep\u001b[0m\u001b[0;34m(\u001b[0m\u001b[0;34m)\u001b[0m\u001b[0;34m\u001b[0m\u001b[0;34m\u001b[0m\u001b[0m\n\u001b[0m\u001b[1;32m     12\u001b[0m         \u001b[0mbits_total\u001b[0m \u001b[0;34m+=\u001b[0m \u001b[0mbits\u001b[0m\u001b[0;34m\u001b[0m\u001b[0;34m\u001b[0m\u001b[0m\n\u001b[1;32m     13\u001b[0m     \u001b[0mprint\u001b[0m\u001b[0;34m(\u001b[0m\u001b[0mbits_total\u001b[0m\u001b[0;34m.\u001b[0m\u001b[0mitem\u001b[0m\u001b[0;34m(\u001b[0m\u001b[0;34m)\u001b[0m \u001b[0;34m/\u001b[0m \u001b[0mlen\u001b[0m\u001b[0;34m(\u001b[0m\u001b[0mtrain_loader\u001b[0m\u001b[0;34m)\u001b[0m\u001b[0;34m)\u001b[0m\u001b[0;34m\u001b[0m\u001b[0;34m\u001b[0m\u001b[0m\n",
      "\u001b[0;32m~/miniconda3/lib/python3.6/site-packages/torch/optim/adam.py\u001b[0m in \u001b[0;36mstep\u001b[0;34m(self, closure)\u001b[0m\n\u001b[1;32m    101\u001b[0m                     \u001b[0mdenom\u001b[0m \u001b[0;34m=\u001b[0m \u001b[0;34m(\u001b[0m\u001b[0mmax_exp_avg_sq\u001b[0m\u001b[0;34m.\u001b[0m\u001b[0msqrt\u001b[0m\u001b[0;34m(\u001b[0m\u001b[0;34m)\u001b[0m \u001b[0;34m/\u001b[0m \u001b[0mmath\u001b[0m\u001b[0;34m.\u001b[0m\u001b[0msqrt\u001b[0m\u001b[0;34m(\u001b[0m\u001b[0mbias_correction2\u001b[0m\u001b[0;34m)\u001b[0m\u001b[0;34m)\u001b[0m\u001b[0;34m.\u001b[0m\u001b[0madd_\u001b[0m\u001b[0;34m(\u001b[0m\u001b[0mgroup\u001b[0m\u001b[0;34m[\u001b[0m\u001b[0;34m'eps'\u001b[0m\u001b[0;34m]\u001b[0m\u001b[0;34m)\u001b[0m\u001b[0;34m\u001b[0m\u001b[0;34m\u001b[0m\u001b[0m\n\u001b[1;32m    102\u001b[0m                 \u001b[0;32melse\u001b[0m\u001b[0;34m:\u001b[0m\u001b[0;34m\u001b[0m\u001b[0;34m\u001b[0m\u001b[0m\n\u001b[0;32m--> 103\u001b[0;31m                     \u001b[0mdenom\u001b[0m \u001b[0;34m=\u001b[0m \u001b[0;34m(\u001b[0m\u001b[0mexp_avg_sq\u001b[0m\u001b[0;34m.\u001b[0m\u001b[0msqrt\u001b[0m\u001b[0;34m(\u001b[0m\u001b[0;34m)\u001b[0m \u001b[0;34m/\u001b[0m \u001b[0mmath\u001b[0m\u001b[0;34m.\u001b[0m\u001b[0msqrt\u001b[0m\u001b[0;34m(\u001b[0m\u001b[0mbias_correction2\u001b[0m\u001b[0;34m)\u001b[0m\u001b[0;34m)\u001b[0m\u001b[0;34m.\u001b[0m\u001b[0madd_\u001b[0m\u001b[0;34m(\u001b[0m\u001b[0mgroup\u001b[0m\u001b[0;34m[\u001b[0m\u001b[0;34m'eps'\u001b[0m\u001b[0;34m]\u001b[0m\u001b[0;34m)\u001b[0m\u001b[0;34m\u001b[0m\u001b[0;34m\u001b[0m\u001b[0m\n\u001b[0m\u001b[1;32m    104\u001b[0m \u001b[0;34m\u001b[0m\u001b[0m\n\u001b[1;32m    105\u001b[0m                 \u001b[0mstep_size\u001b[0m \u001b[0;34m=\u001b[0m \u001b[0mgroup\u001b[0m\u001b[0;34m[\u001b[0m\u001b[0;34m'lr'\u001b[0m\u001b[0;34m]\u001b[0m \u001b[0;34m/\u001b[0m \u001b[0mbias_correction1\u001b[0m\u001b[0;34m\u001b[0m\u001b[0;34m\u001b[0m\u001b[0m\n",
      "\u001b[0;31mKeyboardInterrupt\u001b[0m: "
     ]
    }
   ],
   "source": [
    "for i in range(EPOCHS):\n",
    "    bits_total = 0\n",
    "    for x, _ in train_loader:\n",
    "        x = x.to(device)\n",
    "        with torch.no_grad():\n",
    "            x = (x * (256 - 1) + torch.randn_like(x).to(device)) / 256\n",
    "        ll = flow.log_prob(x)\n",
    "        bits = calculate_bits_per_pixel(ll)\n",
    "        optimizer.zero_grad()\n",
    "        bits.backward()\n",
    "        optimizer.step()\n",
    "        bits_total += bits\n",
    "    print(bits_total.item() / len(train_loader))"
   ]
  },
  {
   "cell_type": "code",
   "execution_count": null,
   "metadata": {},
   "outputs": [],
   "source": []
  },
  {
   "cell_type": "code",
   "execution_count": null,
   "metadata": {},
   "outputs": [],
   "source": []
  },
  {
   "cell_type": "code",
   "execution_count": null,
   "metadata": {},
   "outputs": [],
   "source": []
  }
 ],
 "metadata": {
  "kernelspec": {
   "display_name": "Python 3",
   "language": "python",
   "name": "python3"
  }
 },
 "nbformat": 4,
 "nbformat_minor": 4
}
