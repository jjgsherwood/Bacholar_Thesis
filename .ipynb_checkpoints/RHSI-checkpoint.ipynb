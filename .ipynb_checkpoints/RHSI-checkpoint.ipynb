{
 "cells": [
  {
   "cell_type": "code",
   "execution_count": 1,
   "metadata": {},
   "outputs": [],
   "source": [
    "import h5py\n",
    "import numpy as np"
   ]
  },
  {
   "cell_type": "code",
   "execution_count": 2,
   "metadata": {},
   "outputs": [],
   "source": [
    "filename = 'liver-norm_3map'\n",
    "filename = 'liver-mal_1map'\n",
    "\n",
    "with h5py.File(f'J:/Jonne/Documents/Tudelft werk/Workfolder/Bachelor_Thesis/{filename}.TippRHSI', 'r') as f:\n",
    "    array = f['Array'][:]\n",
    "    \n",
    "np.save(f'../data/HSI/{filename}', array)    "
   ]
  },
  {
   "cell_type": "code",
   "execution_count": 19,
   "metadata": {},
   "outputs": [],
   "source": [
    "#stacking sample\n",
    "\n",
    "file_mal = 'liver-mal_1map'\n",
    "file_nor = 'liver-norm_3map'\n",
    "mal = np.load(f'../data/HSI/{file_mal}.npy', 'r')\n",
    "nor = np.load(f'../data/HSI/{file_nor}.npy', 'r')\n",
    "img = np.vstack((mal, nor))\n",
    "filename = 'liver_whole_sample'\n",
    "np.save(f'../data/HSI/{filename}', img)    "
   ]
  },
  {
   "cell_type": "code",
   "execution_count": 26,
   "metadata": {},
   "outputs": [],
   "source": [
    "filename = 'liver-norm_3map'\n",
    "filename2 = 'liver_whole_sample'\n",
    "\n",
    "# with h5py.File(f'J:/Jonne/Documents/Tudelft werk/Workfolder/Bachelor_Thesis/{filename}.TippRHSI', 'r') as f:\n",
    "with h5py.File(f'J:/Jonne/Documents/Tudelft werk/Workfolder/Bachelor_Thesis/{filename2}.TippRHSI', 'w') as g:\n",
    "    g['Array'] = img\n",
    "\n"
   ]
  },
  {
   "cell_type": "code",
   "execution_count": 31,
   "metadata": {},
   "outputs": [
    {
     "ename": "FileNotFoundError",
     "evalue": "[Errno 2] No such file or directory: '../data/HSI/Reference Samples/liver_whole_sample2_PCA_ref_0.TippRHSIRef.npy'",
     "output_type": "error",
     "traceback": [
      "\u001b[1;31m---------------------------------------------------------------------------\u001b[0m",
      "\u001b[1;31mFileNotFoundError\u001b[0m                         Traceback (most recent call last)",
      "\u001b[1;32m<ipython-input-31-c0f8c4f2f9cc>\u001b[0m in \u001b[0;36m<module>\u001b[1;34m\u001b[0m\n\u001b[0;32m     10\u001b[0m     \u001b[1;32mwith\u001b[0m \u001b[0mh5py\u001b[0m\u001b[1;33m.\u001b[0m\u001b[0mFile\u001b[0m\u001b[1;33m(\u001b[0m\u001b[1;34mf'J:/Jonne/Documents/Tudelft werk/Workfolder/Bachelor_Thesis/{file}'\u001b[0m\u001b[1;33m,\u001b[0m \u001b[1;34m'r'\u001b[0m\u001b[1;33m)\u001b[0m \u001b[1;32mas\u001b[0m \u001b[0mf\u001b[0m\u001b[1;33m:\u001b[0m\u001b[1;33m\u001b[0m\u001b[1;33m\u001b[0m\u001b[0m\n\u001b[0;32m     11\u001b[0m         \u001b[0mdata\u001b[0m \u001b[1;33m=\u001b[0m \u001b[0mf\u001b[0m\u001b[1;33m[\u001b[0m\u001b[1;34m'Array'\u001b[0m\u001b[1;33m]\u001b[0m\u001b[1;33m[\u001b[0m\u001b[1;33m:\u001b[0m\u001b[1;33m]\u001b[0m\u001b[1;33m\u001b[0m\u001b[1;33m\u001b[0m\u001b[0m\n\u001b[1;32m---> 12\u001b[1;33m     \u001b[0mnp\u001b[0m\u001b[1;33m.\u001b[0m\u001b[0msave\u001b[0m\u001b[1;33m(\u001b[0m\u001b[1;34mf'../data/HSI/{file}'\u001b[0m\u001b[1;33m,\u001b[0m \u001b[0mdata\u001b[0m\u001b[1;33m)\u001b[0m\u001b[1;33m\u001b[0m\u001b[1;33m\u001b[0m\u001b[0m\n\u001b[0m",
      "\u001b[1;32m<__array_function__ internals>\u001b[0m in \u001b[0;36msave\u001b[1;34m(*args, **kwargs)\u001b[0m\n",
      "\u001b[1;32mC:\\ProgramData\\Anaconda3\\lib\\site-packages\\numpy\\lib\\npyio.py\u001b[0m in \u001b[0;36msave\u001b[1;34m(file, arr, allow_pickle, fix_imports)\u001b[0m\n\u001b[0;32m    539\u001b[0m         \u001b[1;32mif\u001b[0m \u001b[1;32mnot\u001b[0m \u001b[0mfile\u001b[0m\u001b[1;33m.\u001b[0m\u001b[0mendswith\u001b[0m\u001b[1;33m(\u001b[0m\u001b[1;34m'.npy'\u001b[0m\u001b[1;33m)\u001b[0m\u001b[1;33m:\u001b[0m\u001b[1;33m\u001b[0m\u001b[1;33m\u001b[0m\u001b[0m\n\u001b[0;32m    540\u001b[0m             \u001b[0mfile\u001b[0m \u001b[1;33m=\u001b[0m \u001b[0mfile\u001b[0m \u001b[1;33m+\u001b[0m \u001b[1;34m'.npy'\u001b[0m\u001b[1;33m\u001b[0m\u001b[1;33m\u001b[0m\u001b[0m\n\u001b[1;32m--> 541\u001b[1;33m         \u001b[0mfid\u001b[0m \u001b[1;33m=\u001b[0m \u001b[0mopen\u001b[0m\u001b[1;33m(\u001b[0m\u001b[0mfile\u001b[0m\u001b[1;33m,\u001b[0m \u001b[1;34m\"wb\"\u001b[0m\u001b[1;33m)\u001b[0m\u001b[1;33m\u001b[0m\u001b[1;33m\u001b[0m\u001b[0m\n\u001b[0m\u001b[0;32m    542\u001b[0m         \u001b[0mown_fid\u001b[0m \u001b[1;33m=\u001b[0m \u001b[1;32mTrue\u001b[0m\u001b[1;33m\u001b[0m\u001b[1;33m\u001b[0m\u001b[0m\n\u001b[0;32m    543\u001b[0m \u001b[1;33m\u001b[0m\u001b[0m\n",
      "\u001b[1;31mFileNotFoundError\u001b[0m: [Errno 2] No such file or directory: '../data/HSI/Reference Samples/liver_whole_sample2_PCA_ref_0.TippRHSIRef.npy'"
     ]
    }
   ],
   "source": [
    "# export to npy\n",
    "filenames = ('liver_whole_sample2.TippRHSI', \n",
    "             'liver_whole_sample2_PCA.TippRHSIPCA', \n",
    "             'liver_whole_sample2_RCA.TippRHSIRCA',\n",
    "             'Reference Samples/liver_whole_sample2_PCA_ref_0.TippRHSIRef',\n",
    "             'Reference Samples/liver_whole_sample2_PCA_ref_1.TippRHSIRef',\n",
    "             'Reference Samples/liver_whole_sample2_PCA_ref_2.TippRHSIRef'\n",
    "             )\n",
    "for file in filenames:\n",
    "    with h5py.File(f'J:/Jonne/Documents/Tudelft werk/Workfolder/Bachelor_Thesis/{file}', 'r') as f:\n",
    "        data = f['Array'][:]\n",
    "    np.save(f'../data/HSI/{file}', data) "
   ]
  },
  {
   "cell_type": "code",
   "execution_count": null,
   "metadata": {},
   "outputs": [],
   "source": []
  }
 ],
 "metadata": {
  "kernelspec": {
   "display_name": "Python 3",
   "language": "python",
   "name": "python3"
  },
  "language_info": {
   "codemirror_mode": {
    "name": "ipython",
    "version": 3
   },
   "file_extension": ".py",
   "mimetype": "text/x-python",
   "name": "python",
   "nbconvert_exporter": "python",
   "pygments_lexer": "ipython3",
   "version": "3.7.6"
  }
 },
 "nbformat": 4,
 "nbformat_minor": 4
}
