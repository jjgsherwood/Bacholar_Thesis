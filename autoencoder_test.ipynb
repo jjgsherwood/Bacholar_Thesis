{
 "cells": [
  {
   "cell_type": "code",
   "execution_count": 1,
   "metadata": {},
   "outputs": [],
   "source": [
    "import torch\n",
    "import torchvision\n",
    "from torchvision import transforms, datasets\n",
    "import matplotlib.pyplot as plt\n",
    "import torch.nn as nn\n",
    "import torch.nn.functional as F\n",
    "import torch.optim as optim\n",
    "import os\n",
    "import cv2\n",
    "import numpy as np\n",
    "from tqdm import tqdm\n"
   ]
  },
  {
   "cell_type": "code",
   "execution_count": 3,
   "metadata": {},
   "outputs": [],
   "source": [
    "train = datasets.MNIST(\"../data/\", train=True, download=True, transform = transforms.Compose([transforms.ToTensor()]))\n",
    "test = datasets.MNIST(\"../data/\", train=False, download=True, transform = transforms.Compose([transforms.ToTensor()]))"
   ]
  },
  {
   "cell_type": "code",
   "execution_count": 4,
   "metadata": {},
   "outputs": [],
   "source": [
    "trainset = torch.utils.data.DataLoader(train, batch_size=50, shuffle=True)\n",
    "testset = torch.utils.data.DataLoader(test, batch_size=50, shuffle=True)"
   ]
  },
  {
   "cell_type": "code",
   "execution_count": 50,
   "metadata": {},
   "outputs": [
    {
     "name": "stdout",
     "output_type": "stream",
     "text": [
      "Net(\n",
      "  (fc1_en): Linear(in_features=784, out_features=16, bias=True)\n",
      "  (fc1_de): Linear(in_features=16, out_features=784, bias=True)\n",
      ")\n"
     ]
    }
   ],
   "source": [
    "IM_SIZE = 28*28\n",
    "IM_SHAPE = (28, 28)\n",
    "\n",
    "# Just a simple PCA, works a little bit some pictures can be red.\n",
    "# EPOCH = 3, Batch = 10 and cross_entropie         => loss = 310206\n",
    "class Net(nn.Module):\n",
    "    def __init__(self):\n",
    "        super().__init__()\n",
    "        self.fc1_en = nn.Linear(IM_SIZE, 16)\n",
    "        self.fc1_de = nn.Linear(16, IM_SIZE)\n",
    "        \n",
    "    def forward(self, x):\n",
    "        x = F.sigmoid(self.fc1_en(x))\n",
    "        return F.sigmoid(self.fc1_de(x))\n",
    "                \n",
    "net = Net()\n",
    "print(net)  "
   ]
  },
  {
   "cell_type": "code",
   "execution_count": 29,
   "metadata": {},
   "outputs": [
    {
     "name": "stdout",
     "output_type": "stream",
     "text": [
      "Net(\n",
      "  (fc1_en): Linear(in_features=784, out_features=64, bias=True)\n",
      "  (fc2_en): Linear(in_features=64, out_features=16, bias=True)\n",
      "  (fc1_de): Linear(in_features=16, out_features=64, bias=True)\n",
      "  (fc2_de): Linear(in_features=64, out_features=784, bias=True)\n",
      "  (dropout): Dropout2d(p=0.5, inplace=False)\n",
      ")\n"
     ]
    }
   ],
   "source": [
    "\n",
    "# 1 hidden layer and dropout:\n",
    "# EPOCH = 3, Batch = 10 and mse                    => loss = 244880\n",
    "# EPOCH = 3, Batch = 10 and cross_entropie         => loss = 192187\n",
    "class Net(nn.Module):\n",
    "    def __init__(self):\n",
    "        super().__init__()\n",
    "        self.fc1_en = nn.Linear(IM_SIZE, 64)\n",
    "        self.fc2_en = nn.Linear(64, 16)\n",
    "        self.fc1_de = nn.Linear(16, 64)\n",
    "        self.fc2_de = nn.Linear(64, IM_SIZE)\n",
    "        self.dropout = nn.Dropout2d(0.5)\n",
    "        \n",
    "    def forward(self, x):\n",
    "        x = self.dropout(x)\n",
    "        x = F.sigmoid(self.fc1_en(x))\n",
    "        x = F.sigmoid(self.fc2_en(x))\n",
    "        x = F.sigmoid(self.fc1_de(x))\n",
    "        return F.sigmoid(self.fc2_de(x))\n",
    "                \n",
    "net = Net()\n",
    "print(net)  "
   ]
  },
  {
   "cell_type": "code",
   "execution_count": null,
   "metadata": {},
   "outputs": [
    {
     "name": "stderr",
     "output_type": "stream",
     "text": [
      "100%|██████████| 6000/6000 [00:31<00:00, 192.57it/s]\n",
      "  0%|          | 20/6000 [00:00<00:31, 192.12it/s]"
     ]
    },
    {
     "name": "stdout",
     "output_type": "stream",
     "text": [
      "0 tensor(1485.8751, grad_fn=<BinaryCrossEntropyBackward>)\n"
     ]
    },
    {
     "name": "stderr",
     "output_type": "stream",
     "text": [
      "100%|██████████| 6000/6000 [00:30<00:00, 197.26it/s]\n",
      "  1%|          | 32/6000 [00:00<00:18, 317.21it/s]"
     ]
    },
    {
     "name": "stdout",
     "output_type": "stream",
     "text": [
      "1 tensor(1194.1504, grad_fn=<BinaryCrossEntropyBackward>)\n"
     ]
    },
    {
     "name": "stderr",
     "output_type": "stream",
     "text": [
      "100%|██████████| 6000/6000 [00:30<00:00, 195.40it/s]\n",
      "  0%|          | 18/6000 [00:00<00:33, 179.58it/s]"
     ]
    },
    {
     "name": "stdout",
     "output_type": "stream",
     "text": [
      "2 tensor(1240.1167, grad_fn=<BinaryCrossEntropyBackward>)\n"
     ]
    },
    {
     "name": "stderr",
     "output_type": "stream",
     "text": [
      "100%|██████████| 6000/6000 [00:29<00:00, 204.37it/s]\n",
      "  0%|          | 19/6000 [00:00<00:32, 185.24it/s]"
     ]
    },
    {
     "name": "stdout",
     "output_type": "stream",
     "text": [
      "3 tensor(1225.3616, grad_fn=<BinaryCrossEntropyBackward>)\n"
     ]
    },
    {
     "name": "stderr",
     "output_type": "stream",
     "text": [
      "100%|██████████| 6000/6000 [00:31<00:00, 192.50it/s]\n",
      "  0%|          | 19/6000 [00:00<00:31, 186.95it/s]"
     ]
    },
    {
     "name": "stdout",
     "output_type": "stream",
     "text": [
      "4 tensor(1282.3644, grad_fn=<BinaryCrossEntropyBackward>)\n"
     ]
    },
    {
     "name": "stderr",
     "output_type": "stream",
     "text": [
      "100%|██████████| 6000/6000 [00:31<00:00, 190.29it/s]\n",
      "  0%|          | 17/6000 [00:00<00:35, 167.82it/s]"
     ]
    },
    {
     "name": "stdout",
     "output_type": "stream",
     "text": [
      "5 tensor(1139.2238, grad_fn=<BinaryCrossEntropyBackward>)\n"
     ]
    },
    {
     "name": "stderr",
     "output_type": "stream",
     "text": [
      "100%|██████████| 6000/6000 [00:30<00:00, 197.15it/s]\n",
      "  1%|          | 33/6000 [00:00<00:18, 323.77it/s]"
     ]
    },
    {
     "name": "stdout",
     "output_type": "stream",
     "text": [
      "6 tensor(1195.7665, grad_fn=<BinaryCrossEntropyBackward>)\n"
     ]
    },
    {
     "name": "stderr",
     "output_type": "stream",
     "text": [
      "100%|██████████| 6000/6000 [00:24<00:00, 243.82it/s]\n",
      "  0%|          | 19/6000 [00:00<00:32, 184.55it/s]"
     ]
    },
    {
     "name": "stdout",
     "output_type": "stream",
     "text": [
      "7 tensor(1135.7449, grad_fn=<BinaryCrossEntropyBackward>)\n"
     ]
    },
    {
     "name": "stderr",
     "output_type": "stream",
     "text": [
      "100%|██████████| 6000/6000 [00:26<00:00, 223.60it/s]\n",
      "  0%|          | 14/6000 [00:00<00:43, 137.72it/s]"
     ]
    },
    {
     "name": "stdout",
     "output_type": "stream",
     "text": [
      "8 tensor(1181.1029, grad_fn=<BinaryCrossEntropyBackward>)\n"
     ]
    },
    {
     "name": "stderr",
     "output_type": "stream",
     "text": [
      " 61%|██████▏   | 3675/6000 [00:15<00:12, 184.29it/s]"
     ]
    }
   ],
   "source": [
    "optimizer = optim.Adam(net.parameters(), lr=0.001)\n",
    "EPOCHS = 10\n",
    "\n",
    "for epoch in range(EPOCHS):\n",
    "    for X, _ in tqdm(trainset):\n",
    "        net.zero_grad()\n",
    "        output = net(X.view(-1, IM_SIZE))\n",
    "        loss = F.binary_cross_entropy(output, X.view(-1, IM_SIZE), reduction='sum')\n",
    "        loss.backward()\n",
    "        optimizer.step()\n",
    "    print(epoch, loss)"
   ]
  },
  {
   "cell_type": "code",
   "execution_count": 52,
   "metadata": {},
   "outputs": [
    {
     "name": "stderr",
     "output_type": "stream",
     "text": [
      "100%|██████████| 1000/1000 [00:01<00:00, 608.44it/s]\n"
     ]
    },
    {
     "name": "stdout",
     "output_type": "stream",
     "text": [
      "tensor(310206.6562)\n"
     ]
    },
    {
     "data": {
      "image/png": "[encoded data removed]",
      "text/plain": [
       "<Figure size 432x288 with 1 Axes>"
      ]
     },
     "metadata": {
      "needs_background": "light"
     },
     "output_type": "display_data"
    },
    {
     "data": {
      "image/png": "[encoded data removed]",
      "text/plain": [
       "<Figure size 432x288 with 1 Axes>"
      ]
     },
     "metadata": {
      "needs_background": "light"
     },
     "output_type": "display_data"
    }
   ],
   "source": [
    "loss = 0\n",
    "with torch.no_grad():\n",
    "    for X, _ in tqdm(testset):\n",
    "        output = net(X.view(-1, IM_SIZE))\n",
    "        loss += F.mse_loss(output, X.view(-1, IM_SIZE), reduction='sum')\n",
    "\n",
    "print(loss)\n",
    "plt.imshow(X[0].view(IM_SHAPE))\n",
    "plt.show()\n",
    "plt.imshow(output[0].view(IM_SHAPE))\n",
    "plt.show()\n"
   ]
  },
  {
   "cell_type": "code",
   "execution_count": null,
   "metadata": {},
   "outputs": [],
   "source": []
  },
  {
   "cell_type": "code",
   "execution_count": null,
   "metadata": {},
   "outputs": [],
   "source": []
  }
 ],
 "metadata": {
  "kernelspec": {
   "display_name": "Python 3",
   "language": "python",
   "name": "python3"
  },
  "language_info": {
   "codemirror_mode": {
    "name": "ipython",
    "version": 3
   },
   "file_extension": ".py",
   "mimetype": "text/x-python",
   "name": "python",
   "nbconvert_exporter": "python",
   "pygments_lexer": "ipython3",
   "version": "3.7.4"
  }
 },
 "nbformat": 4,
 "nbformat_minor": 2
}
