{
 "cells": [
  {
   "cell_type": "code",
   "execution_count": 1,
   "metadata": {},
   "outputs": [],
   "source": [
    "import torch\n",
    "import torchvision\n",
    "from torchvision import transforms, datasets\n",
    "import matplotlib.pyplot as plt\n",
    "import torch.nn as nn\n",
    "import torch.nn.functional as F\n",
    "import torch.optim as optim\n",
    "import os\n",
    "import cv2\n",
    "import numpy as np\n",
    "from tqdm import tqdm\n",
    "from collections import OrderedDict\n",
    "from torch.optim.lr_scheduler import StepLR\n"
   ]
  },
  {
   "cell_type": "code",
   "execution_count": 2,
   "metadata": {},
   "outputs": [],
   "source": [
    "train = datasets.MNIST(\"../data/\", train=True, download=True, transform = transforms.Compose([transforms.ToTensor()]))\n",
    "test = datasets.MNIST(\"../data/\", train=False, download=True, transform = transforms.Compose([transforms.ToTensor()]))"
   ]
  },
  {
   "cell_type": "code",
   "execution_count": 3,
   "metadata": {},
   "outputs": [],
   "source": [
    "IM_SIZE = 28 * 28\n",
    "IM_SHAPE = (28, 28)\n",
    "CPU_training = False\n",
    "BATCH = 100\n",
    "use_cuda =  torch.cuda.is_available() and not CPU_training\n",
    "device = torch.device(\"cuda\" if use_cuda else \"cpu\")\n",
    "kwargs = {'num_workers': 1, 'pin_memory': True} if use_cuda else {}\n",
    "\n",
    "trainset = torch.utils.data.DataLoader(train, batch_size=BATCH, shuffle=True, **kwargs)\n",
    "testset = torch.utils.data.DataLoader(test, batch_size=BATCH, shuffle=True, **kwargs)"
   ]
  },
  {
   "cell_type": "code",
   "execution_count": 24,
   "metadata": {},
   "outputs": [],
   "source": [
    "PCA_dim = 2\n",
    "PCA_2d = nn.Sequential(OrderedDict([\n",
    "            ('fc1_en', nn.Linear(IM_SIZE, PCA_dim)),\n",
    "            ('relu1', nn.PReLU()),\n",
    "            ('fc1_de', nn.Linear(PCA_dim, IM_SIZE)),\n",
    "            ('sigmoid1', nn.Softmax(dim=0))    \n",
    "         ])).to(device)\n"
   ]
  },
  {
   "cell_type": "code",
   "execution_count": null,
   "metadata": {},
   "outputs": [],
   "source": []
  },
  {
   "cell_type": "code",
   "execution_count": null,
   "metadata": {},
   "outputs": [
    {
     "name": "stderr",
     "output_type": "stream",
     "text": [
      " 95%|███████████████████████████████████████████████████████████████████████████▏   | 571/600 [00:05<00:00, 123.30it/s]"
     ]
    }
   ],
   "source": [
    "net = PCA_2d.train()\n",
    "\n",
    "optimizer = optim.Adadelta(net.parameters(), lr=1.0, rho=0.9, eps=1e-06, weight_decay=0)\n",
    "scheduler = StepLR(optimizer, step_size=1, gamma=0.7)\n",
    "EPOCHS = 25\n",
    "\n",
    "for epoch in range(EPOCHS):\n",
    "    for X, _ in tqdm(trainset):\n",
    "        X = X.view(-1, IM_SIZE).to(device)\n",
    "        net.zero_grad()\n",
    "        output = net(X)\n",
    "        loss = F.binary_cross_entropy(output, X)\n",
    "        loss.backward()\n",
    "        optimizer.step()\n",
    "    scheduler.step()\n",
    "    print(epoch, loss)"
   ]
  },
  {
   "cell_type": "code",
   "execution_count": null,
   "metadata": {},
   "outputs": [],
   "source": [
    "\"\"\"\n",
    "SOURCE: https://discuss.pytorch.org/t/how-can-l-load-my-best-model-as-a-feature-extractor-evaluator/17254/6\n",
    "\"\"\"\n",
    "\n",
    "activation = {}\n",
    "def get_activation(name):\n",
    "    def hook(model, input, output):\n",
    "        activation[name] = output.detach()\n",
    "    return hook\n",
    "\n",
    "PCA_2d.fc1_en.register_forward_hook(get_activation('fc1_en'))\n",
    "PCA_2d.relu1.register_forward_hook(get_activation('relu1'))"
   ]
  },
  {
   "cell_type": "code",
   "execution_count": null,
   "metadata": {},
   "outputs": [],
   "source": [
    "net = PCA_2d.eval()\n",
    "\n",
    "comp_data = np.empty((10000, PCA_dim))\n",
    "comp_label = np.empty((10000,))\n",
    "loss = 0\n",
    "with torch.no_grad():\n",
    "    for i, (X, y) in tqdm(enumerate(testset)):\n",
    "        X = X.view(-1, IM_SIZE).to(device)\n",
    "        output = net(X)\n",
    "        comp_data[BATCH * i: BATCH * (i + 1)] = activation['relu1'].cpu()\n",
    "        comp_label[BATCH * i: BATCH * (i + 1)] = y\n",
    "\n",
    "        loss += F.mse_loss(output, X, reduction='sum')\n",
    "\n",
    "print(loss)\n",
    "if use_cuda:\n",
    "    X = X.cpu()\n",
    "    output = output.cpu()\n",
    "plt.imshow(X[0].view(IM_SHAPE))\n",
    "plt.show()\n",
    "plt.imshow(output[0].view(IM_SHAPE))\n",
    "plt.show()\n",
    "\n"
   ]
  },
  {
   "cell_type": "code",
   "execution_count": null,
   "metadata": {},
   "outputs": [],
   "source": [
    "plt.scatter(comp_data[:,0], comp_data[:,1], c=comp_label, cmap=plt.cm.rainbow)\n",
    "plt.show()\n"
   ]
  },
  {
   "cell_type": "code",
   "execution_count": null,
   "metadata": {},
   "outputs": [],
   "source": []
  }
 ],
 "metadata": {
  "kernelspec": {
   "display_name": "Python 3",
   "language": "python",
   "name": "python3"
  },
  "language_info": {
   "codemirror_mode": {
    "name": "ipython",
    "version": 3
   },
   "file_extension": ".py",
   "mimetype": "text/x-python",
   "name": "python",
   "nbconvert_exporter": "python",
   "pygments_lexer": "ipython3",
   "version": "3.7.6"
  }
 },
 "nbformat": 4,
 "nbformat_minor": 4
}
