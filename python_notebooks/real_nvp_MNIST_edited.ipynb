{
 "cells": [
  {
   "cell_type": "code",
   "execution_count": 1,
   "metadata": {},
   "outputs": [],
   "source": [
    "import torch\n",
    "import torch.nn as nn\n",
    "import torch.nn.functional as F\n",
    "import torch.optim as optim\n",
    "\n",
    "from torchvision import transforms, datasets\n",
    "import numpy as np\n",
    "\n",
    "import matplotlib.pyplot as plt\n",
    "%matplotlib inline\n",
    "\n",
    "from modules.householder import HH\n",
    "from modules.couplings import NICE"
   ]
  },
  {
   "cell_type": "code",
   "execution_count": 2,
   "metadata": {},
   "outputs": [],
   "source": [
    "train_dataset = datasets.MNIST(\"../data/\", train=True, download=False, transform=transforms.ToTensor())\n",
    "test_dataset = datasets.MNIST(\"../data/\", train=False, download=False, transform=transforms.ToTensor())"
   ]
  },
  {
   "cell_type": "code",
   "execution_count": 3,
   "metadata": {},
   "outputs": [],
   "source": [
    "IM_SIZE = 28 * 28\n",
    "IM_SHAPE = (28, 28)\n",
    "CPU_training = False\n",
    "BATCH = 256\n",
    "EPOCHS = 20\n",
    "\n",
    "use_cuda =  torch.cuda.is_available() and not CPU_training\n",
    "device = torch.device(\"cuda\" if use_cuda else \"cpu\")\n",
    "\n",
    "train_loader = torch.utils.data.DataLoader(train_dataset, batch_size=BATCH, \n",
    "                                           shuffle=True, num_workers=7, pin_memory=use_cuda, drop_last=True)\n",
    "test_loader = torch.utils.data.DataLoader(test_dataset, batch_size=BATCH, \n",
    "                                          shuffle=False, num_workers=7, pin_memory=use_cuda, drop_last=True)"
   ]
  },
  {
   "cell_type": "code",
   "execution_count": 4,
   "metadata": {},
   "outputs": [],
   "source": [
    "def net_slim(size):\n",
    "    return nn.Sequential(\n",
    "        nn.Conv2d(size, 64, kernel_size=1, padding=0, bias=False),\n",
    "        nn.BatchNorm2d(64),\n",
    "        nn.ReLU(True),\n",
    "        nn.Conv2d(64, 64, kernel_size=3, padding=1, bias=False),\n",
    "        nn.BatchNorm2d(64),\n",
    "        nn.ReLU(True),\n",
    "        nn.Conv2d(64, size, kernel_size=1, padding=0),\n",
    "    )"
   ]
  },
  {
   "cell_type": "code",
   "execution_count": 5,
   "metadata": {},
   "outputs": [],
   "source": [
    "class Downsample(nn.Module):\n",
    "    \n",
    "    def inverse(self, input):\n",
    "        upscale_factor=2\n",
    "        '''\n",
    "        [:, C*r^2, H, W] -> [:, C, H*r, W*r]\n",
    "        '''\n",
    "        batch_size, in_channels, in_height, in_width = input.size()\n",
    "        out_channels = in_channels // (upscale_factor**2)\n",
    "\n",
    "        out_height = in_height * upscale_factor\n",
    "        out_width = in_width * upscale_factor\n",
    "\n",
    "        input_view = input.contiguous().view(batch_size, out_channels, upscale_factor,\n",
    "                                             upscale_factor, in_height, in_width)\n",
    "\n",
    "        output = input_view.permute(0, 1, 4, 2, 5, 3).contiguous()\n",
    "        return output.view(batch_size, out_channels, out_height, out_width)\n",
    "\n",
    "\n",
    "    def forward(self, input):\n",
    "        downscale_factor=2\n",
    "        '''\n",
    "        [:, C, H*r, W*r] -> [:, C*r^2, H, W]\n",
    "        '''\n",
    "        batch_size, in_channels, in_height, in_width = input.size()\n",
    "        out_channels = in_channels * (downscale_factor**2)\n",
    "\n",
    "        out_height = in_height // downscale_factor\n",
    "        out_width = in_width // downscale_factor\n",
    "\n",
    "        input_view = input.contiguous().view(\n",
    "            batch_size, in_channels, out_height, downscale_factor, out_width, downscale_factor\n",
    "        )\n",
    "\n",
    "        output = input_view.permute(0, 1, 3, 5, 2, 4).contiguous()\n",
    "        return output.view(batch_size, out_channels, out_height, out_width)"
   ]
  },
  {
   "cell_type": "code",
   "execution_count": 6,
   "metadata": {},
   "outputs": [],
   "source": [
    "def calculate_bits_per_pixel(ll, size=784):\n",
    "    return 8 - ll / np.log(2) / size"
   ]
  },
  {
   "cell_type": "code",
   "execution_count": 7,
   "metadata": {},
   "outputs": [],
   "source": [
    "class Sequential_VP_Flow(nn.Module):\n",
    "    \n",
    "    def __init__(self, distribution, flow_steps):\n",
    "        super().__init__()\n",
    "        self.flow_steps = nn.Sequential(*flow_steps)\n",
    "        self.distribution = distribution\n",
    "        \n",
    "    def forward(self, x):\n",
    "        return self.flow_steps(x)\n",
    "    \n",
    "    def inverse(self, z):\n",
    "        for m in reversed(self.flow_steps):\n",
    "            z = m.inverse(z)\n",
    "        return z\n",
    "    \n",
    "    def log_prob(self, x):\n",
    "        z = self.forward(x)\n",
    "        z = z.view(z.size(0), -1)\n",
    "        ll = self.distribution.log_prob(z).mean()\n",
    "        return ll\n",
    "    \n",
    "    def sample(self):\n",
    "        z = self.distribution.sample()[None]\n",
    "        x = self.inverse(z)\n",
    "        return x\n",
    "    \n",
    "class Housholder1x1Conv(nn.Module):\n",
    "    def __init__(self, channels):\n",
    "        super().__init__()\n",
    "        self.v = nn.Parameter(torch.ones((channels,)))\n",
    "        self.id = nn.Parameter(torch.eye(channels), requires_grad=False)\n",
    "        self.channels = channels\n",
    "\n",
    "    def forward(self, x):\n",
    "        v = self.v\n",
    "        w = self.id - 2 * v[:, None] @ v[None] / (v @ v)\n",
    "        x = F.conv2d(x, w[..., None, None])\n",
    "        # w is unitary so log_det = 0\n",
    "        return x\n",
    "\n",
    "    def inverse(self, x):\n",
    "        v = self.v\n",
    "        w = self.id - 2 * v[:, None] @ v[None] / (v @ v)\n",
    "        x = F.conv2d(x, w[..., None, None])\n",
    "        return x"
   ]
  },
  {
   "cell_type": "code",
   "execution_count": 8,
   "metadata": {},
   "outputs": [],
   "source": [
    "dist = torch.distributions.MultivariateNormal(torch.zeros(IM_SIZE).to(device), torch.eye(IM_SIZE).to(device))\n",
    "flow = Sequential_VP_Flow(dist, \n",
    "                          flow_steps=[ # 1\n",
    "                              Downsample(), # 4\n",
    "                              Housholder1x1Conv(4),\n",
    "                              NICE(net_slim(2)),\n",
    "                              Housholder1x1Conv(4),\n",
    "                              NICE(net_slim(2)),\n",
    "                              Downsample(),\n",
    "                              Housholder1x1Conv(16),\n",
    "                              NICE(net_slim(8)),\n",
    "                              Housholder1x1Conv(16),\n",
    "                              NICE(net_slim(8)),\n",
    "                          ])\n",
    "flow.to(device)\n",
    "a = 1"
   ]
  },
  {
   "cell_type": "code",
   "execution_count": 16,
   "metadata": {},
   "outputs": [
    {
     "data": {
      "text/plain": [
       "False"
      ]
     },
     "execution_count": 16,
     "metadata": {},
     "output_type": "execute_result"
    }
   ],
   "source": [
    "import modules.couplings as couplings\n",
    "a = couplings.NICE(net_slim(8))\n",
    "b = couplings.NICE(net_slim(8))\n",
    "a == b"
   ]
  },
  {
   "cell_type": "code",
   "execution_count": 9,
   "metadata": {},
   "outputs": [],
   "source": [
    "optimizer = optim.Adam(flow.parameters(), 5e-3)"
   ]
  },
  {
   "cell_type": "code",
   "execution_count": 10,
   "metadata": {},
   "outputs": [
    {
     "name": "stdout",
     "output_type": "stream",
     "text": [
      "torch.Size([256, 2, 14, 14])\n",
      "torch.Size([256, 2, 14, 14])\n",
      "torch.Size([256, 8, 7, 7])\n",
      "torch.Size([256, 8, 7, 7])\n",
      "tensor(0.3893, grad_fn=<MeanBackward0>)\n",
      "torch.Size([256, 2, 14, 14])\n",
      "torch.Size([256, 2, 14, 14])\n",
      "torch.Size([256, 8, 7, 7])\n",
      "torch.Size([256, 8, 7, 7])\n",
      "tensor(1.2350, grad_fn=<MeanBackward0>)\n",
      "torch.Size([256, 2, 14, 14])\n",
      "torch.Size([256, 2, 14, 14])\n",
      "torch.Size([256, 8, 7, 7])\n",
      "torch.Size([256, 8, 7, 7])\n",
      "tensor(0.6963, grad_fn=<MeanBackward0>)\n",
      "torch.Size([256, 2, 14, 14])\n",
      "torch.Size([256, 2, 14, 14])\n",
      "torch.Size([256, 8, 7, 7])\n",
      "torch.Size([256, 8, 7, 7])\n",
      "tensor(0.3284, grad_fn=<MeanBackward0>)\n",
      "torch.Size([256, 2, 14, 14])\n",
      "torch.Size([256, 2, 14, 14])\n",
      "torch.Size([256, 8, 7, 7])\n",
      "torch.Size([256, 8, 7, 7])\n",
      "tensor(0.2472, grad_fn=<MeanBackward0>)\n",
      "torch.Size([256, 2, 14, 14])\n",
      "torch.Size([256, 2, 14, 14])\n",
      "torch.Size([256, 8, 7, 7])\n",
      "torch.Size([256, 8, 7, 7])\n"
     ]
    },
    {
     "ename": "KeyboardInterrupt",
     "evalue": "",
     "output_type": "error",
     "traceback": [
      "\u001b[0;31m---------------------------------------------------------------------------\u001b[0m",
      "\u001b[0;31mKeyboardInterrupt\u001b[0m                         Traceback (most recent call last)",
      "\u001b[0;32m<ipython-input-10-abb8b37e64fe>\u001b[0m in \u001b[0;36m<module>\u001b[0;34m\u001b[0m\n\u001b[1;32m      8\u001b[0m         \u001b[0mz\u001b[0m \u001b[0;34m=\u001b[0m \u001b[0mflow\u001b[0m\u001b[0;34m(\u001b[0m\u001b[0mx\u001b[0m\u001b[0;34m)\u001b[0m\u001b[0;34m\u001b[0m\u001b[0;34m\u001b[0m\u001b[0m\n\u001b[1;32m      9\u001b[0m         \u001b[0mloss\u001b[0m \u001b[0;34m=\u001b[0m \u001b[0mz\u001b[0m\u001b[0;34m.\u001b[0m\u001b[0mpow\u001b[0m\u001b[0;34m(\u001b[0m\u001b[0;36m2\u001b[0m\u001b[0;34m)\u001b[0m\u001b[0;34m.\u001b[0m\u001b[0mmean\u001b[0m\u001b[0;34m(\u001b[0m\u001b[0;34m)\u001b[0m\u001b[0;34m\u001b[0m\u001b[0;34m\u001b[0m\u001b[0m\n\u001b[0;32m---> 10\u001b[0;31m         \u001b[0mloss\u001b[0m\u001b[0;34m.\u001b[0m\u001b[0mbackward\u001b[0m\u001b[0;34m(\u001b[0m\u001b[0;34m)\u001b[0m\u001b[0;34m\u001b[0m\u001b[0;34m\u001b[0m\u001b[0m\n\u001b[0m\u001b[1;32m     11\u001b[0m         \u001b[0mprint\u001b[0m\u001b[0;34m(\u001b[0m\u001b[0mloss\u001b[0m\u001b[0;34m)\u001b[0m\u001b[0;34m\u001b[0m\u001b[0;34m\u001b[0m\u001b[0m\n\u001b[1;32m     12\u001b[0m         \u001b[0moptimizer\u001b[0m\u001b[0;34m.\u001b[0m\u001b[0mstep\u001b[0m\u001b[0;34m(\u001b[0m\u001b[0;34m)\u001b[0m\u001b[0;34m\u001b[0m\u001b[0;34m\u001b[0m\u001b[0m\n",
      "\u001b[0;32m~/anaconda3/lib/python3.7/site-packages/torch/tensor.py\u001b[0m in \u001b[0;36mbackward\u001b[0;34m(self, gradient, retain_graph, create_graph)\u001b[0m\n\u001b[1;32m    193\u001b[0m                 \u001b[0mproducts\u001b[0m\u001b[0;34m.\u001b[0m \u001b[0mDefaults\u001b[0m \u001b[0mto\u001b[0m\u001b[0;31m \u001b[0m\u001b[0;31m`\u001b[0m\u001b[0;31m`\u001b[0m\u001b[0;32mFalse\u001b[0m\u001b[0;31m`\u001b[0m\u001b[0;31m`\u001b[0m\u001b[0;34m.\u001b[0m\u001b[0;34m\u001b[0m\u001b[0;34m\u001b[0m\u001b[0m\n\u001b[1;32m    194\u001b[0m         \"\"\"\n\u001b[0;32m--> 195\u001b[0;31m         \u001b[0mtorch\u001b[0m\u001b[0;34m.\u001b[0m\u001b[0mautograd\u001b[0m\u001b[0;34m.\u001b[0m\u001b[0mbackward\u001b[0m\u001b[0;34m(\u001b[0m\u001b[0mself\u001b[0m\u001b[0;34m,\u001b[0m \u001b[0mgradient\u001b[0m\u001b[0;34m,\u001b[0m \u001b[0mretain_graph\u001b[0m\u001b[0;34m,\u001b[0m \u001b[0mcreate_graph\u001b[0m\u001b[0;34m)\u001b[0m\u001b[0;34m\u001b[0m\u001b[0;34m\u001b[0m\u001b[0m\n\u001b[0m\u001b[1;32m    196\u001b[0m \u001b[0;34m\u001b[0m\u001b[0m\n\u001b[1;32m    197\u001b[0m     \u001b[0;32mdef\u001b[0m \u001b[0mregister_hook\u001b[0m\u001b[0;34m(\u001b[0m\u001b[0mself\u001b[0m\u001b[0;34m,\u001b[0m \u001b[0mhook\u001b[0m\u001b[0;34m)\u001b[0m\u001b[0;34m:\u001b[0m\u001b[0;34m\u001b[0m\u001b[0;34m\u001b[0m\u001b[0m\n",
      "\u001b[0;32m~/anaconda3/lib/python3.7/site-packages/torch/autograd/__init__.py\u001b[0m in \u001b[0;36mbackward\u001b[0;34m(tensors, grad_tensors, retain_graph, create_graph, grad_variables)\u001b[0m\n\u001b[1;32m     97\u001b[0m     Variable._execution_engine.run_backward(\n\u001b[1;32m     98\u001b[0m         \u001b[0mtensors\u001b[0m\u001b[0;34m,\u001b[0m \u001b[0mgrad_tensors\u001b[0m\u001b[0;34m,\u001b[0m \u001b[0mretain_graph\u001b[0m\u001b[0;34m,\u001b[0m \u001b[0mcreate_graph\u001b[0m\u001b[0;34m,\u001b[0m\u001b[0;34m\u001b[0m\u001b[0;34m\u001b[0m\u001b[0m\n\u001b[0;32m---> 99\u001b[0;31m         allow_unreachable=True)  # allow_unreachable flag\n\u001b[0m\u001b[1;32m    100\u001b[0m \u001b[0;34m\u001b[0m\u001b[0m\n\u001b[1;32m    101\u001b[0m \u001b[0;34m\u001b[0m\u001b[0m\n",
      "\u001b[0;31mKeyboardInterrupt\u001b[0m: "
     ]
    }
   ],
   "source": [
    "for i in range(EPOCHS):\n",
    "    bits_total = []\n",
    "    for x, _ in train_loader:\n",
    "        x = x.to(device)\n",
    "        with torch.no_grad():\n",
    "            x = (x * (256 - 1) + torch.rand_like(x).to(device)) / 256\n",
    "        optimizer.zero_grad()\n",
    "        z = flow(x)\n",
    "        loss = z.pow(2).mean()\n",
    "        loss.backward()\n",
    "        print(loss)\n",
    "        optimizer.step()"
   ]
  },
  {
   "cell_type": "code",
   "execution_count": null,
   "metadata": {},
   "outputs": [],
   "source": [
    "x.max()"
   ]
  },
  {
   "cell_type": "code",
   "execution_count": null,
   "metadata": {},
   "outputs": [],
   "source": []
  },
  {
   "cell_type": "code",
   "execution_count": null,
   "metadata": {},
   "outputs": [],
   "source": [
    "z = flow.distribution.sample()"
   ]
  },
  {
   "cell_type": "code",
   "execution_count": null,
   "metadata": {},
   "outputs": [],
   "source": [
    "plt.imshow(flow.inverse(z.view(1, 16, 7, 7).cuda()).cpu().detach()[0, 0])"
   ]
  },
  {
   "cell_type": "code",
   "execution_count": null,
   "metadata": {},
   "outputs": [],
   "source": []
  }
 ],
 "metadata": {
  "kernelspec": {
   "display_name": "Python 3",
   "language": "python",
   "name": "python3"
  },
  "language_info": {
   "codemirror_mode": {
    "name": "ipython",
    "version": 3
   },
   "file_extension": ".py",
   "mimetype": "text/x-python",
   "name": "python",
   "nbconvert_exporter": "python",
   "pygments_lexer": "ipython3",
   "version": "3.7.4"
  }
 },
 "nbformat": 4,
 "nbformat_minor": 4
}
