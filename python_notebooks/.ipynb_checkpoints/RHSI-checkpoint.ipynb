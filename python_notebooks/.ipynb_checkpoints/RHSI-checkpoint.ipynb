{
 "cells": [
  {
   "cell_type": "code",
   "execution_count": 1,
   "metadata": {},
   "outputs": [],
   "source": [
    "import h5py\n",
    "import numpy as np"
   ]
  },
  {
   "cell_type": "code",
   "execution_count": 2,
   "metadata": {},
   "outputs": [],
   "source": [
    "filename = 'liver-norm_3map'\n",
    "filename = 'liver-mal_1map'\n",
    "\n",
    "with h5py.File(f'J:/Jonne/Documents/Tudelft werk/Workfolder/Bachelor_Thesis/{filename}.TippRHSI', 'r') as f:\n",
    "    array = f['Array'][:]\n",
    "    \n",
    "np.save(f'../data/HSI/{filename}', array)    "
   ]
  },
  {
   "cell_type": "code",
   "execution_count": 19,
   "metadata": {},
   "outputs": [],
   "source": [
    "#stacking sample\n",
    "\n",
    "file_mal = 'liver-mal_1map'\n",
    "file_nor = 'liver-norm_3map'\n",
    "mal = np.load(f'../data/HSI/{file_mal}.npy', 'r')\n",
    "nor = np.load(f'../data/HSI/{file_nor}.npy', 'r')\n",
    "img = np.vstack((mal, nor))\n",
    "filename = 'liver_whole_sample'\n",
    "np.save(f'../data/HSI/{filename}', img)    "
   ]
  },
  {
   "cell_type": "code",
   "execution_count": 26,
   "metadata": {},
   "outputs": [],
   "source": [
    "filename = 'liver-norm_3map'\n",
    "filename2 = 'liver_whole_sample'\n",
    "\n",
    "# with h5py.File(f'J:/Jonne/Documents/Tudelft werk/Workfolder/Bachelor_Thesis/{filename}.TippRHSI', 'r') as f:\n",
    "with h5py.File(f'J:/Jonne/Documents/Tudelft werk/Workfolder/Bachelor_Thesis/{filename2}.TippRHSI', 'w') as g:\n",
    "    g['Array'] = img\n",
    "\n"
   ]
  },
  {
   "cell_type": "code",
   "execution_count": 3,
   "metadata": {},
   "outputs": [],
   "source": [
    "# export to npy\n",
    "filenames = ('liver_whole_sample2.TippRHSI', \n",
    "             'liver_whole_sample2_PCA.TippRHSIPCA', \n",
    "             'liver_whole_sample2_RCA.TippRHSIRCA',\n",
    "             'Reference Samples/liver_whole_sample2_PCA_ref_0.TippRHSIRef',\n",
    "             'Reference Samples/liver_whole_sample2_PCA_ref_1.TippRHSIRef',\n",
    "             'Reference Samples/liver_whole_sample2_PCA_ref_2.TippRHSIRef')\n",
    "for file in filenames:\n",
    "    with h5py.File(f'J:/Jonne/Documents/Tudelft werk/Workfolder/Bachelor_Thesis/{file}', 'r') as f:\n",
    "        data = f['Array'][:]\n",
    "    np.save(f'../data/HSI/{file}', data) "
   ]
  },
  {
   "cell_type": "code",
   "execution_count": null,
   "metadata": {},
   "outputs": [],
   "source": [
    "data = np.load('liver_whole_sample2.TippRHSI')"
   ]
  }
 ],
 "metadata": {
  "kernelspec": {
   "display_name": "Python 3",
   "language": "python",
   "name": "python3"
  },
  "language_info": {
   "codemirror_mode": {
    "name": "ipython",
    "version": 3
   },
   "file_extension": ".py",
   "mimetype": "text/x-python",
   "name": "python",
   "nbconvert_exporter": "python",
   "pygments_lexer": "ipython3",
   "version": "3.7.6"
  }
 },
 "nbformat": 4,
 "nbformat_minor": 4
}
