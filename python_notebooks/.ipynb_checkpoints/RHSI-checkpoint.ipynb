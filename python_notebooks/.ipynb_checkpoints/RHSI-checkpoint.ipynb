{
 "cells": [
  {
   "cell_type": "code",
   "execution_count": 9,
   "metadata": {},
   "outputs": [],
   "source": [
    "import h5py\n",
    "import numpy as np\n",
    "import pickle"
   ]
  },
  {
   "cell_type": "code",
   "execution_count": 5,
   "metadata": {},
   "outputs": [],
   "source": [
    "filename = 'Alina_art_1_1'\n",
    "\n",
    "with h5py.File(f'J:/Jonne/Documents/Tudelft werk/Workfolder/Bachelor_Thesis/{filename}.TippRHSI', 'r') as f:\n",
    "    array = f['Array'][:]\n",
    "    \n",
    "np.save(f'../../data/Raman/{filename}', array)    "
   ]
  },
  {
   "cell_type": "code",
   "execution_count": 24,
   "metadata": {},
   "outputs": [
    {
     "name": "stdout",
     "output_type": "stream",
     "text": [
      "dict_keys(['Special Resolution (micrometer)', 'sensor type', 'Vertical Dimension (px/mm)', 'Horizontal Dimension (px/mm)', 'acquisition date', 'Shape', 'Aspect Ratio', 'WaveNumberShiftInfo', 'interleave', 'Excitation Wavelength', 'WavelengthInfo', 'Shape Original Data', 'Technique Type', 'Bit Depth', 'Image Type', 'ChunkSize'])\n"
     ]
    }
   ],
   "source": [
    "#Save metadata\n",
    "pickle.HIGHEST_PROTOCOL\n",
    "filename = 'Alina_art_1_1_metadata'\n",
    "with open(f'J:/Jonne/Documents/Tudelft werk/Workfolder/Bachelor_Thesis/{filename}.pkl', 'rb') as f:\n",
    "#     pickle.load(f)    \n",
    "    data = pickle.load(f, encoding='latin1')\n",
    "\n",
    "print(data.keys())\n",
    "\n",
    "array = data['WaveNumberShiftInfo']\n",
    "\n",
    "filename = 'wavelength'\n",
    "np.save(f'../../data/Raman/{filename}', array)    "
   ]
  },
  {
   "cell_type": "code",
   "execution_count": 3,
   "metadata": {},
   "outputs": [],
   "source": [
    "#stacking sample\n",
    "\n",
    "# file_mal = 'liver-mal_1map'\n",
    "# file_nor = 'liver-norm_3map'\n",
    "# mal = np.load(f'../data/HSI/{file_mal}.npy', 'r')\n",
    "# nor = np.load(f'../data/HSI/{file_nor}.npy', 'r')\n",
    "# img = np.vstack((mal, nor))\n",
    "# filename = 'liver_whole_sample'\n",
    "# np.save(f'../data/HSI/{filename}', img)    "
   ]
  },
  {
   "cell_type": "code",
   "execution_count": 4,
   "metadata": {},
   "outputs": [],
   "source": [
    "# filename = 'liver-norm_3map'\n",
    "# filename2 = 'liver_whole_sample'\n",
    "\n",
    "# with h5py.File(f'J:/Jonne/Documents/Tudelft werk/Workfolder/Bachelor_Thesis/{filename2}.TippRHSI', 'w') as g:\n",
    "#     g['Array'] = img\n",
    "\n"
   ]
  },
  {
   "cell_type": "code",
   "execution_count": 18,
   "metadata": {},
   "outputs": [],
   "source": [
    "# export to npy\n",
    "filenames = ('liver_whole_sample2.TippRHSI', \n",
    "             'liver_whole_sample2_PCA.TippRHSIPCA', \n",
    "             'liver_whole_sample2_RCA.TippRHSIRCA',\n",
    "             'Reference Samples/liver_whole_sample2_PCA_ref_0.TippRHSIRef',\n",
    "             'Reference Samples/liver_whole_sample2_PCA_ref_1.TippRHSIRef',\n",
    "             'Reference Samples/liver_whole_sample2_PCA_ref_2.TippRHSIRef')\n",
    "for file in filenames:\n",
    "    with h5py.File(f'J:/Jonne/Documents/Tudelft werk/Workfolder/Bachelor_Thesis/{file}', 'r') as f:\n",
    "        data = f['Array'][:]\n",
    "    np.save(f'../../data/HSI/{file.split(\".\")[0]}', data) "
   ]
  },
  {
   "cell_type": "code",
   "execution_count": 21,
   "metadata": {},
   "outputs": [
    {
     "ename": "FileNotFoundError",
     "evalue": "[Errno 2] No such file or directory: '../data/liver_whole_sample2.npy'",
     "output_type": "error",
     "traceback": [
      "\u001b[1;31m---------------------------------------------------------------------------\u001b[0m",
      "\u001b[1;31mFileNotFoundError\u001b[0m                         Traceback (most recent call last)",
      "\u001b[1;32m<ipython-input-21-c5ef10e1362a>\u001b[0m in \u001b[0;36m<module>\u001b[1;34m\u001b[0m\n\u001b[1;32m----> 1\u001b[1;33m \u001b[0mdata\u001b[0m \u001b[1;33m=\u001b[0m \u001b[0mnp\u001b[0m\u001b[1;33m.\u001b[0m\u001b[0mload\u001b[0m\u001b[1;33m(\u001b[0m\u001b[1;34m'../data/liver_whole_sample2.npy'\u001b[0m\u001b[1;33m)\u001b[0m\u001b[1;33m\u001b[0m\u001b[1;33m\u001b[0m\u001b[0m\n\u001b[0m",
      "\u001b[1;32mC:\\ProgramData\\Anaconda3\\lib\\site-packages\\numpy\\lib\\npyio.py\u001b[0m in \u001b[0;36mload\u001b[1;34m(file, mmap_mode, allow_pickle, fix_imports, encoding)\u001b[0m\n\u001b[0;32m    426\u001b[0m         \u001b[0mown_fid\u001b[0m \u001b[1;33m=\u001b[0m \u001b[1;32mFalse\u001b[0m\u001b[1;33m\u001b[0m\u001b[1;33m\u001b[0m\u001b[0m\n\u001b[0;32m    427\u001b[0m     \u001b[1;32melse\u001b[0m\u001b[1;33m:\u001b[0m\u001b[1;33m\u001b[0m\u001b[1;33m\u001b[0m\u001b[0m\n\u001b[1;32m--> 428\u001b[1;33m         \u001b[0mfid\u001b[0m \u001b[1;33m=\u001b[0m \u001b[0mopen\u001b[0m\u001b[1;33m(\u001b[0m\u001b[0mos_fspath\u001b[0m\u001b[1;33m(\u001b[0m\u001b[0mfile\u001b[0m\u001b[1;33m)\u001b[0m\u001b[1;33m,\u001b[0m \u001b[1;34m\"rb\"\u001b[0m\u001b[1;33m)\u001b[0m\u001b[1;33m\u001b[0m\u001b[1;33m\u001b[0m\u001b[0m\n\u001b[0m\u001b[0;32m    429\u001b[0m         \u001b[0mown_fid\u001b[0m \u001b[1;33m=\u001b[0m \u001b[1;32mTrue\u001b[0m\u001b[1;33m\u001b[0m\u001b[1;33m\u001b[0m\u001b[0m\n\u001b[0;32m    430\u001b[0m \u001b[1;33m\u001b[0m\u001b[0m\n",
      "\u001b[1;31mFileNotFoundError\u001b[0m: [Errno 2] No such file or directory: '../data/liver_whole_sample2.npy'"
     ]
    }
   ],
   "source": [
    "data = np.load('../data/liver_whole_sample2.npy')"
   ]
  },
  {
   "cell_type": "code",
   "execution_count": 20,
   "metadata": {},
   "outputs": [
    {
     "data": {
      "text/plain": [
       "(6, 9, 924)"
      ]
     },
     "execution_count": 20,
     "metadata": {},
     "output_type": "execute_result"
    }
   ],
   "source": [
    "data.shape"
   ]
  },
  {
   "cell_type": "code",
   "execution_count": 23,
   "metadata": {},
   "outputs": [
    {
     "data": {
      "text/plain": [
       "132.0"
      ]
     },
     "execution_count": 23,
     "metadata": {},
     "output_type": "execute_result"
    }
   ],
   "source": [
    "924/7"
   ]
  },
  {
   "cell_type": "code",
   "execution_count": 15,
   "metadata": {},
   "outputs": [
    {
     "data": {
      "text/plain": [
       "1.0"
      ]
     },
     "execution_count": 15,
     "metadata": {},
     "output_type": "execute_result"
    }
   ],
   "source": [
    "1000/2/2/2/5/5/5"
   ]
  },
  {
   "cell_type": "code",
   "execution_count": null,
   "metadata": {},
   "outputs": [],
   "source": []
  }
 ],
 "metadata": {
  "kernelspec": {
   "display_name": "Python 3",
   "language": "python",
   "name": "python3"
  },
  "language_info": {
   "codemirror_mode": {
    "name": "ipython",
    "version": 3
   },
   "file_extension": ".py",
   "mimetype": "text/x-python",
   "name": "python",
   "nbconvert_exporter": "python",
   "pygments_lexer": "ipython3",
   "version": "3.7.6"
  }
 },
 "nbformat": 4,
 "nbformat_minor": 4
}
