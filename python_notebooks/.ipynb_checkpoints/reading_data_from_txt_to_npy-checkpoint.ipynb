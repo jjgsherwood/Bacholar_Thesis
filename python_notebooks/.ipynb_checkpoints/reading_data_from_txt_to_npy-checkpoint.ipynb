{
 "cells": [
  {
   "cell_type": "code",
   "execution_count": 7,
   "metadata": {},
   "outputs": [],
   "source": [
    "import numpy as np\n",
    "import pandas as pd"
   ]
  },
  {
   "cell_type": "code",
   "execution_count": 8,
   "metadata": {},
   "outputs": [],
   "source": [
    "file = 'Liver_map_150z25_60s_3OBOB.txt'\n",
    "with open('../../data/HSI/raw/' + file, 'r') as f:\n",
    "    pass"
   ]
  },
  {
   "cell_type": "code",
   "execution_count": 9,
   "metadata": {},
   "outputs": [],
   "source": [
    "df = pd.read_csv('../../data/HSI/raw/' + file, delimiter='\\t', skipinitialspace=True, header=None, skiprows=[0])\n",
    "df.columns = ['x', 'y', 'wavelength', 'value']"
   ]
  },
  {
   "cell_type": "code",
   "execution_count": 10,
   "metadata": {},
   "outputs": [],
   "source": [
    "df2 = pd.DataFrame(index=df['x'].unique(), columns = df['y'].unique())\n",
    "img = np.empty((df['x'].nunique(), df['y'].nunique(), df['wavelength'].nunique()))\n",
    "\n",
    "for i, x in enumerate(df['x'].unique()):\n",
    "    for j, y in enumerate(df['y'].unique()):\n",
    "        img[i,j,:] = df[(df['x']==x) & (df['y']==y)]['value'].to_numpy()\n"
   ]
  },
  {
   "cell_type": "code",
   "execution_count": 11,
   "metadata": {},
   "outputs": [
    {
     "data": {
      "text/plain": [
       "(150, 25, 1000)"
      ]
     },
     "execution_count": 11,
     "metadata": {},
     "output_type": "execute_result"
    }
   ],
   "source": [
    "img.shape"
   ]
  },
  {
   "cell_type": "code",
   "execution_count": 12,
   "metadata": {},
   "outputs": [],
   "source": [
    "np.save(f'../../data/HSI/{file.split(\".\")[0]}', img) "
   ]
  },
  {
   "cell_type": "code",
   "execution_count": null,
   "metadata": {},
   "outputs": [],
   "source": []
  }
 ],
 "metadata": {
  "kernelspec": {
   "display_name": "Python 3",
   "language": "python",
   "name": "python3"
  },
  "language_info": {
   "codemirror_mode": {
    "name": "ipython",
    "version": 3
   },
   "file_extension": ".py",
   "mimetype": "text/x-python",
   "name": "python",
   "nbconvert_exporter": "python",
   "pygments_lexer": "ipython3",
   "version": "3.7.6"
  }
 },
 "nbformat": 4,
 "nbformat_minor": 4
}
