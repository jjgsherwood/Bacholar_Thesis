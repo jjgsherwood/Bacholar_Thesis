{
 "cells": [
  {
   "cell_type": "code",
   "execution_count": 7,
   "metadata": {},
   "outputs": [],
   "source": [
    "import h5py\n",
    "import numpy as np"
   ]
  },
  {
   "cell_type": "code",
   "execution_count": 13,
   "metadata": {},
   "outputs": [],
   "source": [
    "filename = 'liver-norm_3map'\n",
    "filename = 'liver-mal_1map'\n",
    "\n",
    "with h5py.File(f'J:/Jonne/Documents/Tudelft werk/Workfolder/Bachelor_Thesis/{filename}.TippRHSI', 'r') as f:\n",
    "    array = f['Array'][:,:,:]\n",
    "    \n",
    "np.save(f'../data/HSI/{filename}', array)    "
   ]
  },
  {
   "cell_type": "code",
   "execution_count": null,
   "metadata": {},
   "outputs": [],
   "source": [
    "file_mal = 'liver-mal_1map'\n",
    "file_nor = 'liver-norm_3map'\n",
    "mal = np.open(f'../data/HSI/{file_mal}')\n",
    "nor = np.open(f'../data/HSI/{file_nor}')"
   ]
  }
 ],
 "metadata": {
  "kernelspec": {
   "display_name": "Python 3",
   "language": "python",
   "name": "python3"
  },
  "language_info": {
   "codemirror_mode": {
    "name": "ipython",
    "version": 3
   },
   "file_extension": ".py",
   "mimetype": "text/x-python",
   "name": "python",
   "nbconvert_exporter": "python",
   "pygments_lexer": "ipython3",
   "version": "3.7.6"
  }
 },
 "nbformat": 4,
 "nbformat_minor": 4
}
